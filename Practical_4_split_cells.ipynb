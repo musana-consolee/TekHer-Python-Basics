{
 "cells": [
  {
   "cell_type": "markdown",
   "id": "9fd00cef",
   "metadata": {},
   "source": [
    "# Practical_4: Flow control"
   ]
  },
  {
   "cell_type": "markdown",
   "id": "497af3a0",
   "metadata": {},
   "source": [
    "\n",
    "\n",
    "---\n",
    "\n",
    "### Exercise 1:\n",
    "Write a Python program that checks if a number is positive or negative.\n"
   ]
  },
  {
   "cell_type": "code",
   "execution_count": 35,
   "id": "4525d7b1",
   "metadata": {},
   "outputs": [
    {
     "name": "stdin",
     "output_type": "stream",
     "text": [
      "enter an number: 0\n"
     ]
    },
    {
     "name": "stdout",
     "output_type": "stream",
     "text": [
      "the number you entered is zero\n"
     ]
    }
   ],
   "source": [
    "check_number=input(\"enter an number:\")\n",
    "number=int(check_number)\n",
    "if number>0:\n",
    "    print(\"the number you entered is positive\")\n",
    "elif number<0:\n",
    "        print(\"the number you entered is negative\")\n",
    "else:\n",
    "    print(\"the number you entered is zero\")"
   ]
  },
  {
   "cell_type": "markdown",
   "id": "289c0fec",
   "metadata": {},
   "source": [
    "\n",
    "---\n",
    "\n",
    "### Exercise 2:\n",
    "Write a Python function that checks if a string starts with a vowel.\n"
   ]
  },
  {
   "cell_type": "code",
   "execution_count": 49,
   "id": "3adbe475",
   "metadata": {},
   "outputs": [
    {
     "name": "stdin",
     "output_type": "stream",
     "text": [
      "please enter a string aline\n"
     ]
    },
    {
     "name": "stdout",
     "output_type": "stream",
     "text": [
      "the string starts with a vowel\n"
     ]
    }
   ],
   "source": [
    "vowels = \"aeiouAEIOU\"\n",
    "string_input= input(\"please enter a string\")\n",
    "word=str(string_input)\n",
    "if word[0] in vowels:\n",
    "    print(\"the string starts with a vowel\")\n",
    "else: \n",
    "    print(\"the string doesn't starts with a vowel\")"
   ]
  },
  {
   "cell_type": "markdown",
   "id": "d64fdd3e",
   "metadata": {},
   "source": [
    "\n",
    "---\n",
    "\n",
    "### Exercise 3:\n",
    "Write a Python program that takes a list of integers and prints \"Even\" for each even number and \"Odd\" for each odd number.\n"
   ]
  },
  {
   "cell_type": "code",
   "execution_count": 74,
   "id": "e6926b1c",
   "metadata": {},
   "outputs": [
    {
     "name": "stdin",
     "output_type": "stream",
     "text": [
      "enter entergers: 3 4 6 7 8 0 1 2\n"
     ]
    },
    {
     "name": "stdout",
     "output_type": "stream",
     "text": [
      "this integers are even: 4\n",
      "this integers are even: 6\n",
      "this integers are even: 8\n",
      "this integers is zero: 0\n",
      "this integers are even: 2\n",
      "this integers are odd : 2\n"
     ]
    }
   ],
   "source": [
    "integer_input=(input(\"enter entergers:\"))\n",
    "number=[int(x) for x in integer_input.split()]\n",
    "for num in number:\n",
    "    if num ==0:\n",
    "       print(\"this integers is zero:\", num)\n",
    "    elif num % 2==0:\n",
    "         print(\"this integers are even:\", num)\n",
    "else:\n",
    "     print(\"this integers are odd :\", num)"
   ]
  },
  {
   "cell_type": "markdown",
   "id": "b5ce7b99",
   "metadata": {},
   "source": [
    "\n",
    "---\n",
    "\n",
    "### Exercise 4:\n",
    "Write a Python program that checks if a given year is a leap year.\n"
   ]
  },
  {
   "cell_type": "code",
   "execution_count": 76,
   "id": "eb3d99f0",
   "metadata": {},
   "outputs": [
    {
     "name": "stdin",
     "output_type": "stream",
     "text": [
      "Enter a year:  2014\n"
     ]
    },
    {
     "name": "stdout",
     "output_type": "stream",
     "text": [
      "this  is not a leap year.\n"
     ]
    }
   ],
   "source": [
    "\n",
    "year = int(input(\"Enter a year: \"))\n",
    "\n",
    "\n",
    "if (year % 4 == 0 and year % 100 != 0) or (year % 400 == 0):\n",
    "    print(\"thi is a leap year.\")\n",
    "else:\n",
    "    print(\"this  is not a leap year.\")\n"
   ]
  },
  {
   "cell_type": "markdown",
   "id": "c5496d7d",
   "metadata": {},
   "source": [
    "\n",
    "---\n",
    "\n",
    "### Exercise 5:\n",
    "Write a Python function that checks if a number is divisible by both 3 and 5.\n"
   ]
  },
  {
   "cell_type": "code",
   "execution_count": 82,
   "id": "46b1bd68",
   "metadata": {},
   "outputs": [
    {
     "name": "stdin",
     "output_type": "stream",
     "text": [
      "Enter  a number:  45\n"
     ]
    },
    {
     "name": "stdout",
     "output_type": "stream",
     "text": [
      "the number is divisible by 3 and 5\n"
     ]
    }
   ],
   "source": [
    "number_input = int(input(\"Enter  a number: \"))\n",
    "if (number_input%3==0 and number_input%5==0):\n",
    "    print(\"the number is divisible by 3 and 5\")\n",
    "else:\n",
    "    print(\"the number is not divisible by 3 and 5\")"
   ]
  },
  {
   "cell_type": "markdown",
   "id": "b0348707",
   "metadata": {},
   "source": [
    "\n",
    "---\n",
    "\n",
    "### Exercise 6:\n",
    "Write a Python program that prints \"Hot\" if the temperature is above 30, \"Warm\" if it is between 15 and 30, and \"Cold\" if it is below 15.\n"
   ]
  },
  {
   "cell_type": "code",
   "execution_count": 86,
   "id": "dfde8564",
   "metadata": {},
   "outputs": [
    {
     "name": "stdin",
     "output_type": "stream",
     "text": [
      "enter temperature degree: 12\n"
     ]
    },
    {
     "name": "stdout",
     "output_type": "stream",
     "text": [
      "cold\n"
     ]
    }
   ],
   "source": [
    "temp=int(input(\"enter temperature degree:\"))\n",
    "if temp>30:\n",
    "    print(\"hot\")\n",
    "elif (temp>15 and temp<=30):\n",
    "    print(\"warm\")\n",
    "else:\n",
    "    print(\"cold\")"
   ]
  },
  {
   "cell_type": "markdown",
   "id": "ec1d713e",
   "metadata": {},
   "source": [
    "\n",
    "---\n",
    "\n",
    "### Exercise 7:\n",
    "Write a Python program that checks if a string contains the letter 'a'.\n"
   ]
  },
  {
   "cell_type": "code",
   "execution_count": 92,
   "id": "2eb30c57",
   "metadata": {},
   "outputs": [
    {
     "name": "stdin",
     "output_type": "stream",
     "text": [
      " enter any string: umuntu\n"
     ]
    },
    {
     "name": "stdout",
     "output_type": "stream",
     "text": [
      "there is no letter a in string\n"
     ]
    }
   ],
   "source": [
    "string_input= str(input(\" enter any string:\"))\n",
    "letter='a'\n",
    "if letter in string_input:\n",
    "    print(\"the string contain letter a\")\n",
    "else:\n",
    "    print(\"there is no letter a in string\")\n"
   ]
  },
  {
   "cell_type": "markdown",
   "id": "8194f567",
   "metadata": {},
   "source": [
    "\n",
    "---\n",
    "\n",
    "### Exercise 8:\n",
    "Write a Python function that checks if two numbers are equal, or which one is larger.\n"
   ]
  },
  {
   "cell_type": "code",
   "execution_count": 94,
   "id": "ede9943f",
   "metadata": {},
   "outputs": [
    {
     "name": "stdin",
     "output_type": "stream",
     "text": [
      "enter the first number: 4\n",
      "enter the second number: 8\n"
     ]
    },
    {
     "name": "stdout",
     "output_type": "stream",
     "text": [
      "the larger number is: 8\n"
     ]
    }
   ],
   "source": [
    "Fnumber=int(input(\"enter the first number:\" ))\n",
    "Snumber=int(input(\"enter the second number:\" ))\n",
    "if Fnumber==Snumber:\n",
    "    print(\"they are equal\")\n",
    "elif Fnumber>Snumber:\n",
    "    print(\"the larger number is:\",Fnumber)\n",
    "else:\n",
    "    print(\"the larger number is:\",Snumber)"
   ]
  },
  {
   "cell_type": "markdown",
   "id": "9e86c97f",
   "metadata": {},
   "source": [
    "\n",
    "---\n",
    "\n",
    "### Exercise 9:\n",
    "Write a Python program that checks if a list is empty.\n"
   ]
  },
  {
   "cell_type": "code",
   "execution_count": 96,
   "id": "13738c3f",
   "metadata": {},
   "outputs": [
    {
     "name": "stdout",
     "output_type": "stream",
     "text": [
      "The list is empty.\n"
     ]
    }
   ],
   "source": [
    "\n",
    "my_list = []\n",
    "\n",
    "if not my_list:\n",
    "    print(\"The list is empty.\")\n",
    "else:\n",
    "    print(\"The list is not empty.\")\n"
   ]
  },
  {
   "cell_type": "markdown",
   "id": "645a85cc",
   "metadata": {},
   "source": [
    "\n",
    "---\n",
    "\n",
    "### Exercise 10:\n",
    "Write a Python function that takes two strings and checks if they are anagrams.\n"
   ]
  },
  {
   "cell_type": "code",
   "execution_count": null,
   "id": "756b7d46",
   "metadata": {},
   "outputs": [],
   "source": [
    "# Exercise 10"
   ]
  },
  {
   "cell_type": "markdown",
   "id": "59ebce61",
   "metadata": {},
   "source": [
    "\n",
    "---\n",
    "\n",
    "### Exercise 11:\n",
    "Write a Python program that checks if a number is prime.\n"
   ]
  },
  {
   "cell_type": "code",
   "execution_count": null,
   "id": "b077d9a1",
   "metadata": {},
   "outputs": [],
   "source": [
    "# Exercise 11"
   ]
  },
  {
   "cell_type": "markdown",
   "id": "531463b8",
   "metadata": {},
   "source": [
    "\n",
    "---\n",
    "\n",
    "### Exercise 12:\n",
    "Write a Python program that checks if a list of numbers is sorted in ascending order.\n"
   ]
  },
  {
   "cell_type": "code",
   "execution_count": null,
   "id": "01fc5a9e",
   "metadata": {},
   "outputs": [],
   "source": [
    "# Exercise 12"
   ]
  },
  {
   "cell_type": "markdown",
   "id": "b15a0cca",
   "metadata": {},
   "source": [
    "\n",
    "---\n",
    "\n",
    "### Exercise 13:\n",
    "Write a Python function that takes a character and checks if it is a digit.\n"
   ]
  },
  {
   "cell_type": "code",
   "execution_count": null,
   "id": "2dc9a053",
   "metadata": {},
   "outputs": [],
   "source": [
    "# Exercise 13"
   ]
  },
  {
   "cell_type": "markdown",
   "id": "60190b10",
   "metadata": {},
   "source": [
    "\n",
    "---\n",
    "\n",
    "### Exercise 14:\n",
    "Write a Python function that checks if a string contains only uppercase letters.\n"
   ]
  },
  {
   "cell_type": "code",
   "execution_count": null,
   "id": "4ed8ebfa",
   "metadata": {},
   "outputs": [],
   "source": [
    "# Exercise 14"
   ]
  },
  {
   "cell_type": "markdown",
   "id": "7f7dd4fd",
   "metadata": {},
   "source": [
    "\n",
    "---\n",
    "\n",
    "### Exercise 15:\n",
    "Write a Python program that checks if a number is a multiple of 10.\n"
   ]
  },
  {
   "cell_type": "code",
   "execution_count": null,
   "id": "e35d5709",
   "metadata": {},
   "outputs": [],
   "source": [
    "# Exercise 15"
   ]
  },
  {
   "cell_type": "markdown",
   "id": "83e1c5d3",
   "metadata": {},
   "source": [
    "\n",
    "---\n",
    "\n",
    "### Exercise 16:\n",
    "Write a Python function that checks if a list contains any duplicates.\n"
   ]
  },
  {
   "cell_type": "code",
   "execution_count": null,
   "id": "24d52edd",
   "metadata": {},
   "outputs": [],
   "source": [
    "# Exercise 16"
   ]
  },
  {
   "cell_type": "markdown",
   "id": "d9533146",
   "metadata": {},
   "source": [
    "\n",
    "---\n",
    "\n",
    "### Exercise 17:\n",
    "Write a Python program that prints \"Teenager\" if the age is between 13 and 19, otherwise it prints \"Not a teenager.\"\n"
   ]
  },
  {
   "cell_type": "code",
   "execution_count": null,
   "id": "bd9212dd",
   "metadata": {},
   "outputs": [],
   "source": [
    "# Exercise 17"
   ]
  },
  {
   "cell_type": "markdown",
   "id": "370f2ba1",
   "metadata": {},
   "source": [
    "\n",
    "---\n",
    "\n",
    "### Exercise 18:\n",
    "Write a Python function that checks if a list contains an element greater than 100.\n"
   ]
  },
  {
   "cell_type": "code",
   "execution_count": null,
   "id": "23cde312",
   "metadata": {},
   "outputs": [],
   "source": [
    "# Exercise 18"
   ]
  },
  {
   "cell_type": "markdown",
   "id": "322ae5e3",
   "metadata": {},
   "source": [
    "\n",
    "---\n",
    "\n",
    "### Exercise 19:\n",
    "Write a Python program that checks if a number is even or odd.\n"
   ]
  },
  {
   "cell_type": "code",
   "execution_count": null,
   "id": "a91bd104",
   "metadata": {},
   "outputs": [],
   "source": [
    "# Exercise 19"
   ]
  },
  {
   "cell_type": "markdown",
   "id": "98e0835d",
   "metadata": {},
   "source": [
    "\n",
    "---\n",
    "\n",
    "### Exercise 20:\n",
    "Write a Python function that checks if a string ends with a punctuation mark.\n"
   ]
  },
  {
   "cell_type": "code",
   "execution_count": null,
   "id": "31fd2458",
   "metadata": {},
   "outputs": [],
   "source": [
    "# Exercise 20"
   ]
  },
  {
   "cell_type": "markdown",
   "id": "fb313702",
   "metadata": {},
   "source": [
    "\n",
    "---\n",
    "\n",
    "### Exercise 21:\n",
    "Write a Python program that prints \"Yes\" if the number is between 1 and 100, otherwise it prints \"No.\"\n"
   ]
  },
  {
   "cell_type": "code",
   "execution_count": null,
   "id": "e362bd56",
   "metadata": {},
   "outputs": [],
   "source": [
    "# Exercise 21"
   ]
  },
  {
   "cell_type": "markdown",
   "id": "3afeef94",
   "metadata": {},
   "source": [
    "\n",
    "---\n",
    "\n",
    "### Exercise 22:\n",
    "Write a Python program that checks if two strings have the same length.\n"
   ]
  },
  {
   "cell_type": "code",
   "execution_count": null,
   "id": "73b75867",
   "metadata": {},
   "outputs": [],
   "source": [
    "# Exercise 22"
   ]
  },
  {
   "cell_type": "markdown",
   "id": "bdd8e2ae",
   "metadata": {},
   "source": [
    "\n",
    "---\n",
    "\n",
    "### Exercise 23:\n",
    "Write a Python function that checks if a number is greater than its reverse.\n"
   ]
  },
  {
   "cell_type": "code",
   "execution_count": null,
   "id": "da8ad2f4",
   "metadata": {},
   "outputs": [],
   "source": [
    "# Exercise 23"
   ]
  },
  {
   "cell_type": "markdown",
   "id": "fab070bc",
   "metadata": {},
   "source": [
    "\n",
    "---\n",
    "\n",
    "### Exercise 24:\n",
    "Write a Python program that checks if a password contains both letters and numbers.\n"
   ]
  },
  {
   "cell_type": "code",
   "execution_count": null,
   "id": "6e22f9b2",
   "metadata": {},
   "outputs": [],
   "source": [
    "# Exercise 24"
   ]
  },
  {
   "cell_type": "markdown",
   "id": "11cb6e7b",
   "metadata": {},
   "source": [
    "\n",
    "---\n",
    "\n",
    "### Exercise 25:\n",
    "Write a Python program that checks if a number is between two given numbers.\n"
   ]
  },
  {
   "cell_type": "code",
   "execution_count": null,
   "id": "38cab028",
   "metadata": {},
   "outputs": [],
   "source": [
    "# Exercise 25"
   ]
  },
  {
   "cell_type": "markdown",
   "id": "50b24a42",
   "metadata": {},
   "source": [
    "\n",
    "---\n",
    "\n",
    "### Exercise 26:\n",
    "Write a Python function that checks if all characters in a string are unique.\n"
   ]
  },
  {
   "cell_type": "code",
   "execution_count": null,
   "id": "62537159",
   "metadata": {},
   "outputs": [],
   "source": [
    "# Exercise 26"
   ]
  },
  {
   "cell_type": "markdown",
   "id": "54ffa82e",
   "metadata": {},
   "source": [
    "\n",
    "---\n",
    "\n",
    "### Exercise 27:\n",
    "Write a Python program that checks if a number is a perfect square.\n"
   ]
  },
  {
   "cell_type": "code",
   "execution_count": null,
   "id": "dd0707b7",
   "metadata": {},
   "outputs": [],
   "source": [
    "# Exercise 27"
   ]
  },
  {
   "cell_type": "markdown",
   "id": "78349b82",
   "metadata": {},
   "source": [
    "\n",
    "---\n",
    "\n",
    "### Exercise 28:\n",
    "Write a Python function that checks if a word is a palindrome.\n"
   ]
  },
  {
   "cell_type": "code",
   "execution_count": null,
   "id": "04056d04",
   "metadata": {},
   "outputs": [],
   "source": [
    "# Exercise 28"
   ]
  },
  {
   "cell_type": "markdown",
   "id": "9728cce0",
   "metadata": {},
   "source": [
    "\n",
    "---\n",
    "\n",
    "### Exercise 29:\n",
    "Write a Python program that prints \"Fizz\" if a number is divisible by 3, \"Buzz\" if it is divisible by 5, and \"FizzBuzz\" if divisible by both.\n"
   ]
  },
  {
   "cell_type": "code",
   "execution_count": null,
   "id": "d3caedaa",
   "metadata": {},
   "outputs": [],
   "source": [
    "# Exercise 29"
   ]
  },
  {
   "cell_type": "markdown",
   "id": "b3c19de5",
   "metadata": {},
   "source": [
    "\n",
    "---\n",
    "\n",
    "### Exercise 30:\n",
    "Write a Python program that checks if the sum of the digits of a number is even.\n"
   ]
  },
  {
   "cell_type": "code",
   "execution_count": null,
   "id": "1d8d47e4",
   "metadata": {},
   "outputs": [],
   "source": [
    "# Exercise 30"
   ]
  },
  {
   "cell_type": "markdown",
   "id": "dbe78293",
   "metadata": {},
   "source": [
    "\n",
    "---\n",
    "\n",
    "### Exercise 31:\n",
    "Write a Python program that checks if a string is a valid email address.\n"
   ]
  },
  {
   "cell_type": "code",
   "execution_count": null,
   "id": "dc64fe29",
   "metadata": {},
   "outputs": [],
   "source": [
    "# Exercise 31"
   ]
  },
  {
   "cell_type": "markdown",
   "id": "32922851",
   "metadata": {},
   "source": [
    "\n",
    "---\n",
    "\n",
    "### Exercise 32:\n",
    "Write a Python function that checks if a number is within 10 of 100 or 200.\n"
   ]
  },
  {
   "cell_type": "code",
   "execution_count": null,
   "id": "c3ae205c",
   "metadata": {},
   "outputs": [],
   "source": [
    "# Exercise 32"
   ]
  },
  {
   "cell_type": "markdown",
   "id": "fedc8718",
   "metadata": {},
   "source": [
    "\n",
    "---\n",
    "\n",
    "### Exercise 33:\n",
    "Write a Python program that checks if a given string is a valid URL.\n"
   ]
  },
  {
   "cell_type": "code",
   "execution_count": null,
   "id": "756593ce",
   "metadata": {},
   "outputs": [],
   "source": [
    "# Exercise 33"
   ]
  },
  {
   "cell_type": "markdown",
   "id": "13e8fcae",
   "metadata": {},
   "source": [
    "\n",
    "---\n",
    "\n",
    "### Exercise 34:\n",
    "Write a Python program that checks if a list contains all even numbers.\n"
   ]
  },
  {
   "cell_type": "code",
   "execution_count": null,
   "id": "e3069861",
   "metadata": {},
   "outputs": [],
   "source": [
    "# Exercise 34"
   ]
  },
  {
   "cell_type": "markdown",
   "id": "f19e5362",
   "metadata": {},
   "source": [
    "\n",
    "---\n",
    "\n",
    "### Exercise 35:\n",
    "Write a Python program that checks if a word is longer than a given length.\n"
   ]
  },
  {
   "cell_type": "code",
   "execution_count": null,
   "id": "491df226",
   "metadata": {},
   "outputs": [],
   "source": [
    "# Exercise 35"
   ]
  },
  {
   "cell_type": "markdown",
   "id": "68956c6c",
   "metadata": {},
   "source": [
    "\n",
    "---\n",
    "\n",
    "### Exercise 36:\n",
    "Write a Python program that checks if a list contains only positive numbers.\n"
   ]
  },
  {
   "cell_type": "code",
   "execution_count": null,
   "id": "09112e89",
   "metadata": {},
   "outputs": [],
   "source": [
    "# Exercise 36"
   ]
  },
  {
   "cell_type": "markdown",
   "id": "14f0333b",
   "metadata": {},
   "source": [
    "\n",
    "---\n",
    "\n",
    "### Exercise 37:\n",
    "Write a Python function that checks if a year is a century year (i.e., divisible by 100).\n"
   ]
  },
  {
   "cell_type": "code",
   "execution_count": null,
   "id": "9a0ee8fa",
   "metadata": {},
   "outputs": [],
   "source": [
    "# Exercise 37"
   ]
  },
  {
   "cell_type": "markdown",
   "id": "6271bb93",
   "metadata": {},
   "source": [
    "\n",
    "---\n",
    "\n",
    "### Exercise 38:\n",
    "Write a Python program that checks if the sum of a list of numbers is greater than 100.\n"
   ]
  },
  {
   "cell_type": "code",
   "execution_count": null,
   "id": "6ddf783b",
   "metadata": {},
   "outputs": [],
   "source": [
    "# Exercise 38"
   ]
  },
  {
   "cell_type": "markdown",
   "id": "8a8b88a8",
   "metadata": {},
   "source": [
    "\n",
    "---\n",
    "\n",
    "### Exercise 39:\n",
    "Write a Python function that checks if a given word is a substring of another string.\n"
   ]
  },
  {
   "cell_type": "code",
   "execution_count": null,
   "id": "2d077065",
   "metadata": {},
   "outputs": [],
   "source": [
    "# Exercise 39"
   ]
  },
  {
   "cell_type": "markdown",
   "id": "b21a3bd9",
   "metadata": {},
   "source": [
    "\n",
    "---\n",
    "\n",
    "### Exercise 40:\n",
    "Write a Python program that checks if a number is a power of 2.\n"
   ]
  },
  {
   "cell_type": "code",
   "execution_count": null,
   "id": "fa1ccd70",
   "metadata": {},
   "outputs": [],
   "source": [
    "# Exercise 40"
   ]
  },
  {
   "cell_type": "markdown",
   "id": "5ecd119f",
   "metadata": {},
   "source": [
    "\n",
    "---\n",
    "\n",
    "### Exercise 41:\n",
    "Write a Python function that checks if a string contains no spaces.\n"
   ]
  },
  {
   "cell_type": "code",
   "execution_count": null,
   "id": "8017833e",
   "metadata": {},
   "outputs": [],
   "source": [
    "# Exercise 41"
   ]
  },
  {
   "cell_type": "markdown",
   "id": "9b3c2803",
   "metadata": {},
   "source": [
    "\n",
    "---\n",
    "\n",
    "### Exercise 42:\n",
    "Write a Python program that prints \"Yes\" if a number is divisible by both 2 and 3, otherwise it prints \"No.\"\n"
   ]
  },
  {
   "cell_type": "code",
   "execution_count": null,
   "id": "cdbf39a0",
   "metadata": {},
   "outputs": [],
   "source": [
    "# Exercise 42"
   ]
  },
  {
   "cell_type": "markdown",
   "id": "5a691fcf",
   "metadata": {},
   "source": [
    "\n",
    "---\n",
    "\n",
    "### Exercise 43:\n",
    "Write a Python program that checks if a number is a palindrome.\n"
   ]
  },
  {
   "cell_type": "code",
   "execution_count": null,
   "id": "e7528a0b",
   "metadata": {},
   "outputs": [],
   "source": [
    "# Exercise 43"
   ]
  },
  {
   "cell_type": "markdown",
   "id": "49dfa276",
   "metadata": {},
   "source": [
    "\n",
    "---\n",
    "\n",
    "### Exercise 44:\n",
    "Write a Python function that checks if a string is made of only lowercase letters.\n"
   ]
  },
  {
   "cell_type": "code",
   "execution_count": null,
   "id": "2aa39193",
   "metadata": {},
   "outputs": [],
   "source": [
    "# Exercise 44"
   ]
  },
  {
   "cell_type": "markdown",
   "id": "e5ba21ba",
   "metadata": {},
   "source": [
    "\n",
    "---\n",
    "\n",
    "### Exercise 45:\n",
    "Write a Python program that checks if a string starts with a specific prefix.\n"
   ]
  },
  {
   "cell_type": "code",
   "execution_count": null,
   "id": "e6670049",
   "metadata": {},
   "outputs": [],
   "source": [
    "# Exercise 45"
   ]
  },
  {
   "cell_type": "markdown",
   "id": "1ee0a3b5",
   "metadata": {},
   "source": [
    "\n",
    "---\n",
    "\n",
    "### Exercise 46:\n",
    "Write a Python function that checks if a number is divisible by any number in a given list.\n"
   ]
  },
  {
   "cell_type": "code",
   "execution_count": null,
   "id": "7d01ccf9",
   "metadata": {},
   "outputs": [],
   "source": [
    "# Exercise 46"
   ]
  },
  {
   "cell_type": "markdown",
   "id": "1563300f",
   "metadata": {},
   "source": [
    "\n",
    "---\n",
    "\n",
    "### Exercise 47:\n",
    "Write a Python program that prints \"Yes\" if a string has more than one occurrence of the same letter.\n"
   ]
  },
  {
   "cell_type": "code",
   "execution_count": null,
   "id": "923dcbc1",
   "metadata": {},
   "outputs": [],
   "source": [
    "# Exercise 47"
   ]
  },
  {
   "cell_type": "markdown",
   "id": "ecfb7eba",
   "metadata": {},
   "source": [
    "\n",
    "---\n",
    "\n",
    "### Exercise 48:\n",
    "Write a Python function that checks if a number is prime by dividing it by numbers up to its square root.\n"
   ]
  },
  {
   "cell_type": "code",
   "execution_count": null,
   "id": "3492a570",
   "metadata": {},
   "outputs": [],
   "source": [
    "# Exercise 48"
   ]
  },
  {
   "cell_type": "markdown",
   "id": "efb3508c",
   "metadata": {},
   "source": [
    "\n",
    "---\n",
    "\n",
    "### Exercise 49:\n",
    "Write a Python program that checks if a number is within 1 of a multiple of 10.\n"
   ]
  },
  {
   "cell_type": "code",
   "execution_count": null,
   "id": "fc272cc0",
   "metadata": {},
   "outputs": [],
   "source": [
    "# Exercise 49"
   ]
  },
  {
   "cell_type": "markdown",
   "id": "8c58ab68",
   "metadata": {},
   "source": [
    "\n",
    "---\n",
    "\n",
    "### Exercise 50:\n",
    "Write a Python program that prints \"In range\" if a number is between 10 and 20 (inclusive), otherwise it prints \"Out of range.\"\n"
   ]
  },
  {
   "cell_type": "code",
   "execution_count": null,
   "id": "24ea2036",
   "metadata": {},
   "outputs": [],
   "source": [
    "# Exercise 50"
   ]
  },
  {
   "cell_type": "markdown",
   "id": "87ccd774",
   "metadata": {},
   "source": [
    "\n",
    "---"
   ]
  }
 ],
 "metadata": {
  "kernelspec": {
   "display_name": "Python [conda env:base] *",
   "language": "python",
   "name": "conda-base-py"
  },
  "language_info": {
   "codemirror_mode": {
    "name": "ipython",
    "version": 3
   },
   "file_extension": ".py",
   "mimetype": "text/x-python",
   "name": "python",
   "nbconvert_exporter": "python",
   "pygments_lexer": "ipython3",
   "version": "3.12.7"
  }
 },
 "nbformat": 4,
 "nbformat_minor": 5
}
