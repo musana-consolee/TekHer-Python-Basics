{
 "cells": [
  {
   "cell_type": "markdown",
   "id": "d68c1dee",
   "metadata": {},
   "source": [
    "# Practical_2: String and files"
   ]
  },
  {
   "cell_type": "markdown",
   "id": "bb0a225c-f5de-4aa7-b339-493c426c99e7",
   "metadata": {},
   "source": [
    "## Exercise 1: Create a string variable text and assign it the value \"Python is amazing!\""
   ]
  },
  {
   "cell_type": "code",
   "execution_count": 5,
   "id": "dda8c157-fc68-4e0b-bea9-0d6c1cb31339",
   "metadata": {
    "scrolled": true
   },
   "outputs": [
    {
     "data": {
      "text/plain": [
       "'Python is amazing!'"
      ]
     },
     "execution_count": 5,
     "metadata": {},
     "output_type": "execute_result"
    }
   ],
   "source": [
    "text = \"Python is amazing!\"\n",
    "text"
   ]
  },
  {
   "cell_type": "markdown",
   "id": "df390ae5-cdd1-49a0-a2b8-94234bd85542",
   "metadata": {},
   "source": [
    "## Exercise 2: Find the length of the string \"Hello, World!\" and store it in a variable length"
   ]
  },
  {
   "cell_type": "code",
   "execution_count": 8,
   "id": "c831e324-a3c4-40d5-8885-7592683eec69",
   "metadata": {},
   "outputs": [
    {
     "data": {
      "text/plain": [
       "13"
      ]
     },
     "execution_count": 8,
     "metadata": {},
     "output_type": "execute_result"
    }
   ],
   "source": [
    "length = len(\"Hello, World!\")\n",
    "length"
   ]
  },
  {
   "cell_type": "markdown",
   "id": "b5f4a059-f068-4a5d-940e-1d3084276109",
   "metadata": {},
   "source": [
    "## Exercise 3: Convert the string \"python programming\" to uppercase and store it in a variable upper_text"
   ]
  },
  {
   "cell_type": "code",
   "execution_count": 11,
   "id": "3ca20a42-68b0-4211-8f90-f9b0c0d4cf3e",
   "metadata": {},
   "outputs": [
    {
     "data": {
      "text/plain": [
       "'PYTHON PROGRAMMING'"
      ]
     },
     "execution_count": 11,
     "metadata": {},
     "output_type": "execute_result"
    }
   ],
   "source": [
    "upper_text = \"python programming\".upper()\n",
    "upper_text"
   ]
  },
  {
   "cell_type": "markdown",
   "id": "b23dac72-75da-4221-ad22-fd74f4f60335",
   "metadata": {},
   "source": [
    "## Exercise 4:\n",
    "Extract the first 5 characters from the string \"Artificial Intelligence\"."
   ]
  },
  {
   "cell_type": "code",
   "execution_count": 14,
   "id": "1449caf2-6813-4ad8-9650-de7ed3aefc1e",
   "metadata": {},
   "outputs": [
    {
     "data": {
      "text/plain": [
       "'Artif'"
      ]
     },
     "execution_count": 14,
     "metadata": {},
     "output_type": "execute_result"
    }
   ],
   "source": [
    "first_five = \"Artificial Intelligence\"[:5]\n",
    "first_five"
   ]
  },
  {
   "cell_type": "markdown",
   "id": "87ab31e1-aa9f-4551-beb1-d1ed762b9478",
   "metadata": {},
   "source": [
    "## Exercise 5:\n",
    "Concatenate the strings \"Hello\" and \"World\" with a space in between."
   ]
  },
  {
   "cell_type": "code",
   "execution_count": 20,
   "id": "105d4c48-056b-4234-98e3-e099a943d342",
   "metadata": {},
   "outputs": [
    {
     "data": {
      "text/plain": [
       "'Hello World'"
      ]
     },
     "execution_count": 20,
     "metadata": {},
     "output_type": "execute_result"
    }
   ],
   "source": [
    "greeting = \"Hello\" + \" \" + \"World\"\n",
    "greeting"
   ]
  },
  {
   "cell_type": "markdown",
   "id": "5c1a8638-73df-4366-b955-3a7d71725a17",
   "metadata": {},
   "source": [
    "## Exercise 6:\n",
    "Replace the word \"dog\" with \"cat\" in the string \"The quick brown dog jumps over the lazy dog.\"."
   ]
  },
  {
   "cell_type": "code",
   "execution_count": 23,
   "id": "043c5a54-6aab-4c0a-acb1-bdfe07669794",
   "metadata": {},
   "outputs": [
    {
     "data": {
      "text/plain": [
       "'The quick brown cat jumps over the lazy cat.'"
      ]
     },
     "execution_count": 23,
     "metadata": {},
     "output_type": "execute_result"
    }
   ],
   "source": [
    "new_sentence = \"The quick brown dog jumps over the lazy dog.\".replace(\"dog\", \"cat\")\n",
    "new_sentence"
   ]
  },
  {
   "cell_type": "markdown",
   "id": "c7b0e573-937a-47bc-95b4-4ae88a8b4871",
   "metadata": {},
   "source": [
    "## Exercise 7:\n",
    "Split the string \"apple,banana,orange\" by commas and store the result in a list fruits_list."
   ]
  },
  {
   "cell_type": "code",
   "execution_count": 28,
   "id": "00edce19-d52f-4ecb-afea-fe0ca7702594",
   "metadata": {},
   "outputs": [
    {
     "data": {
      "text/plain": [
       "['apple', 'banana', 'orange']"
      ]
     },
     "execution_count": 28,
     "metadata": {},
     "output_type": "execute_result"
    }
   ],
   "source": [
    "fruits_list = \"apple,banana,orange\".split(',')\n",
    "fruits_list"
   ]
  },
  {
   "cell_type": "markdown",
   "id": "cceb8a03-b598-4635-8c10-569a558e4d7c",
   "metadata": {},
   "source": [
    "## Exercise 8:\n",
    "Use string formatting to create the sentence \"My name is Alice and I am 25 years old.\", where the name and age are variables."
   ]
  },
  {
   "cell_type": "code",
   "execution_count": 31,
   "id": "c70ef023-95ad-4b9b-8db1-2a2536327640",
   "metadata": {},
   "outputs": [
    {
     "data": {
      "text/plain": [
       "'My name is Alice and I am 25 years old.'"
      ]
     },
     "execution_count": 31,
     "metadata": {},
     "output_type": "execute_result"
    }
   ],
   "source": [
    "name = \"Alice\"\n",
    "age = 25\n",
    "sentence = f\"My name is {name} and I am {age} years old.\"\n",
    "sentence"
   ]
  },
  {
   "cell_type": "markdown",
   "id": "366ebc65-76e2-4f7a-b871-98a52486a867",
   "metadata": {},
   "source": [
    "## Exercise 9:\n",
    "Check if the string \"python\" is present in the sentence \"I love python programming\""
   ]
  },
  {
   "cell_type": "code",
   "execution_count": 34,
   "id": "76032b70-8bd6-4d22-a75a-d2cd82ec35ef",
   "metadata": {},
   "outputs": [
    {
     "data": {
      "text/plain": [
       "True"
      ]
     },
     "execution_count": 34,
     "metadata": {},
     "output_type": "execute_result"
    }
   ],
   "source": [
    "contains_python = \"python\" in \"I love python programming\"\n",
    "contains_python"
   ]
  },
  {
   "cell_type": "markdown",
   "id": "44b028fb-0bbb-4f3d-a56c-2c5d6ea65e87",
   "metadata": {},
   "source": [
    "## Exercise 10:\n",
    "Count the number of occurrences of the letter \"e\" in the string \"Elephant is an elegant animal\"."
   ]
  },
  {
   "cell_type": "code",
   "execution_count": 37,
   "id": "f2cdd0d9-896f-4900-9714-85f1f6a1d93d",
   "metadata": {},
   "outputs": [
    {
     "data": {
      "text/plain": [
       "3"
      ]
     },
     "execution_count": 37,
     "metadata": {},
     "output_type": "execute_result"
    }
   ],
   "source": [
    "e_count = \"Elephant is an elegant animal\".count(\"e\")\n",
    "e_count"
   ]
  },
  {
   "cell_type": "markdown",
   "id": "a9dee981-c07b-48c5-859c-a95a2e113990",
   "metadata": {},
   "source": [
    "## Exercise 11:\n",
    "Remove any leading and trailing spaces from the string \"   Data Science   \""
   ]
  },
  {
   "cell_type": "code",
   "execution_count": 39,
   "id": "79301cf6-9df3-42fc-8486-b648f4dbe1c2",
   "metadata": {},
   "outputs": [
    {
     "data": {
      "text/plain": [
       "'Data Science'"
      ]
     },
     "execution_count": 39,
     "metadata": {},
     "output_type": "execute_result"
    }
   ],
   "source": [
    "cleaned = \"   Data Science   \".strip()\n",
    "cleaned"
   ]
  },
  {
   "cell_type": "markdown",
   "id": "3a42e25c-073c-44c2-9aa0-ec3a0474eaf8",
   "metadata": {},
   "source": [
    "## Exercise 12:\n",
    "Convert the string \"100\" into an integer and store it in a variable int_value."
   ]
  },
  {
   "cell_type": "code",
   "execution_count": 41,
   "id": "b570a470-799f-4520-8db1-652a92920a7e",
   "metadata": {},
   "outputs": [
    {
     "data": {
      "text/plain": [
       "100"
      ]
     },
     "execution_count": 41,
     "metadata": {},
     "output_type": "execute_result"
    }
   ],
   "source": [
    "int_value = int(\"100\")\n",
    "int_value"
   ]
  },
  {
   "cell_type": "markdown",
   "id": "4b4d7221-b8f9-47f6-948b-d64f3a20bfeb",
   "metadata": {},
   "source": [
    "## Exercise 13:\n",
    "Extract the substring \"pro\" from the string \"programming\"."
   ]
  },
  {
   "cell_type": "code",
   "execution_count": 43,
   "id": "1e9a523c-7b3a-4d26-b4e3-dad502de371d",
   "metadata": {},
   "outputs": [
    {
     "data": {
      "text/plain": [
       "'pro'"
      ]
     },
     "execution_count": 43,
     "metadata": {},
     "output_type": "execute_result"
    }
   ],
   "source": [
    "substring = \"programming\"[0:3]  # \"pro\"\n",
    "substring"
   ]
  },
  {
   "cell_type": "markdown",
   "id": "9cb1c274-641c-4b71-8341-b988f076d9de",
   "metadata": {},
   "source": [
    "## Exercise 14:\n",
    "Check if the string \"data\" starts with \"da\" and ends with \"ta\"."
   ]
  },
  {
   "cell_type": "code",
   "execution_count": null,
   "id": "d46ec8ea-2cb5-4f3e-ae0a-86d6fa424506",
   "metadata": {},
   "outputs": [],
   "source": [
    "data_string = \"data\"\n",
    "starts_and_ends = data_string.startswith(\"da\") and data_string.endswith(\"ta\")"
   ]
  },
  {
   "cell_type": "markdown",
   "id": "89d4911e-3a4f-49f3-b4a9-33bacc597b7b",
   "metadata": {},
   "source": [
    "## Exercise 15:\n",
    "Reverse the string \"machine learning\" and store the result in reversed_text."
   ]
  },
  {
   "cell_type": "code",
   "execution_count": 45,
   "id": "f9ce7a0e-81e5-4393-8ff3-58f839317c69",
   "metadata": {},
   "outputs": [
    {
     "data": {
      "text/plain": [
       "'gninrael enihcam'"
      ]
     },
     "execution_count": 45,
     "metadata": {},
     "output_type": "execute_result"
    }
   ],
   "source": [
    "reversed_text = \"machine learning\"[::-1]\n",
    "reversed_text"
   ]
  },
  {
   "cell_type": "markdown",
   "id": "497febe2-2c12-47a5-ba02-9ea30e4662bf",
   "metadata": {},
   "source": [
    "## Exercise 16:\n",
    "Convert the first letter of each word in the string \"machine learning is fun\" to uppercase."
   ]
  },
  {
   "cell_type": "code",
   "execution_count": 47,
   "id": "2a915895-3f3e-4160-8940-28f0b3db6ba3",
   "metadata": {},
   "outputs": [
    {
     "data": {
      "text/plain": [
       "'Machine Learning Is Fun'"
      ]
     },
     "execution_count": 47,
     "metadata": {},
     "output_type": "execute_result"
    }
   ],
   "source": [
    "title_text = \"machine learning is fun\".title()\n",
    "title_text"
   ]
  },
  {
   "cell_type": "markdown",
   "id": "d9acc6a2-0803-47c4-94c7-0fac2f79e029",
   "metadata": {},
   "source": [
    "## Exercise 17:\n",
    "Create a multiline string representing a poem and store it in a variable poem"
   ]
  },
  {
   "cell_type": "code",
   "execution_count": 61,
   "id": "b9ccf83b-f4e8-4469-a8c7-9eaf07d19841",
   "metadata": {},
   "outputs": [
    {
     "name": "stdout",
     "output_type": "stream",
     "text": [
      "Roses are red\n",
      "Violets are blue\n",
      "Python is sweet\n",
      "And so are you.\n"
     ]
    }
   ],
   "source": [
    "poem = \"\"\"Roses are red\n",
    "Violets are blue\n",
    "Python is sweet\n",
    "And so are you.\"\"\"\n",
    "print(poem)"
   ]
  },
  {
   "cell_type": "markdown",
   "id": "90ce6a33-c67c-4568-96df-53136a1bfbdf",
   "metadata": {},
   "source": [
    "## Exercise 18:\n",
    "Write a string to a file named \"output.txt\"."
   ]
  },
  {
   "cell_type": "code",
   "execution_count": 158,
   "id": "8f5f6622-2ea4-4699-bc3f-67d51626d951",
   "metadata": {},
   "outputs": [],
   "source": [
    "file = open(\"data/output.txt\", 'w')\n",
    "file.write(\"My name is Consolee and I love Python!\") \n",
    "file.close()"
   ]
  },
  {
   "cell_type": "code",
   "execution_count": 160,
   "id": "20d4b46e-fbb8-49b1-8c5f-2c96b63738a3",
   "metadata": {},
   "outputs": [
    {
     "name": "stdout",
     "output_type": "stream",
     "text": [
      "This is what was written: My name is Consolee and I love Python!\n"
     ]
    }
   ],
   "source": [
    "file = open(\"data/output.txt\", 'r')\n",
    "s = file.read()\n",
    "print(\"This is what was written:\", s)"
   ]
  },
  {
   "cell_type": "markdown",
   "id": "c79e2852-e9c2-4f6d-baf9-adde3d5524e4",
   "metadata": {},
   "source": [
    "## Exercise 19:\n",
    "Read the contents of a file named \"data.txt\" and print it line by line."
   ]
  },
  {
   "cell_type": "code",
   "execution_count": 199,
   "id": "ccac7dce-89c8-4c4e-8289-8a7a0b62771f",
   "metadata": {},
   "outputs": [
    {
     "name": "stdout",
     "output_type": "stream",
     "text": [
      "['Name,Age,Score', 'Alice,23,85', 'Bob,30,90', 'Charlie,25,88']\n"
     ]
    }
   ],
   "source": [
    "file = open(\"data/data.txt\", 'r')\n",
    "lines = [line.strip() for line in file]\n",
    "file.close()\n",
    "print(lines)\n",
    "    "
   ]
  },
  {
   "cell_type": "markdown",
   "id": "b3bf7362-0eb2-4790-bfe1-f09e7febaaff",
   "metadata": {},
   "source": [
    "## Exercise 20:\n",
    "Check if a file \"example.txt\" exists before opening it."
   ]
  },
  {
   "cell_type": "code",
   "execution_count": 202,
   "id": "dff03c60-25ef-49a3-af54-d284698e8de4",
   "metadata": {},
   "outputs": [
    {
     "name": "stdout",
     "output_type": "stream",
     "text": [
      "This is an example text file used for demonstration.\n",
      "\n"
     ]
    }
   ],
   "source": [
    "import os\n",
    "if os.path.exists(\"data/example.txt\"):\n",
    "    with open(\"data/example.txt\", \"r\") as file:\n",
    "        print(file.read())\n",
    "else:\n",
    "    print(\"File does not exist.\")"
   ]
  },
  {
   "cell_type": "markdown",
   "id": "b2b72476-f054-454d-b480-0bae29fd11a4",
   "metadata": {},
   "source": [
    "## Exercise 21:\n",
    "Append a new line \"This is a new line\" to an existing file \"notes.txt\"."
   ]
  },
  {
   "cell_type": "code",
   "execution_count": 207,
   "id": "acea1db2-27e9-4c85-bd30-7751ff631e72",
   "metadata": {},
   "outputs": [],
   "source": [
    "file = open('data/notes.txt', 'a')\n",
    "file.write('This is an new line.\\n')\n",
    "file.close()"
   ]
  },
  {
   "cell_type": "markdown",
   "id": "d7d73e8e-615d-48f4-84e1-81af16e3560f",
   "metadata": {},
   "source": [
    "## Exercise 22:\n",
    "Read the contents of a file \"log.txt\" and store each line in a list log_lines."
   ]
  },
  {
   "cell_type": "code",
   "execution_count": 213,
   "id": "41df99fd-6923-472c-9dfe-0cb9a9a86670",
   "metadata": {},
   "outputs": [],
   "source": [
    "file = open(\"data/log.txt\", 'r')\n",
    "log_lines = file.readlines()"
   ]
  },
  {
   "cell_type": "markdown",
   "id": "5f4eece2-58bc-4747-b4a3-7276f6036bde",
   "metadata": {},
   "source": [
    "## Exercise 23:\n",
    "Create a new file \"report.txt\" and write the string \"Data analysis report\" to it."
   ]
  },
  {
   "cell_type": "code",
   "execution_count": 220,
   "id": "b14a875b-dd2e-4d8d-81b0-7cd50fdbbb35",
   "metadata": {},
   "outputs": [],
   "source": [
    "file = open(\"data/report.txt\", \"w\")\n",
    "file.write(\"Data analysis report\")\n",
    "file.close()"
   ]
  },
  {
   "cell_type": "markdown",
   "id": "a1465486-1276-43f3-a648-ed7140110586",
   "metadata": {},
   "source": [
    "## Exercise 24:\n",
    "Replace the word \"error\" with \"issue\" in a file \"log.txt\"."
   ]
  },
  {
   "cell_type": "code",
   "execution_count": 230,
   "id": "20c4c9ac-7bfe-43a6-9913-2d3e98b27baa",
   "metadata": {},
   "outputs": [],
   "source": [
    "file = open(\"data/log.txt\", 'r')\n",
    "s = file.read()\n",
    "new_s = s.replace(\"error\", \"issue\")\n",
    "file = open(\"data/log.txt\", 'w')\n",
    "file.write(new_s)\n",
    "file.close()"
   ]
  },
  {
   "cell_type": "markdown",
   "id": "85a13927-7347-4cbf-b22b-a4a325bb58dc",
   "metadata": {},
   "source": [
    "## Exercise 25:\n",
    "Count the number of words in a text file \"document.txt\"."
   ]
  },
  {
   "cell_type": "code",
   "execution_count": 237,
   "id": "53db429b-8d69-46f1-8f9e-501ed23539dd",
   "metadata": {},
   "outputs": [
    {
     "name": "stdout",
     "output_type": "stream",
     "text": [
      "Number of words: 12\n"
     ]
    }
   ],
   "source": [
    "file = open(\"data/document.txt\", 'r')\n",
    "words = file.read().split()\n",
    "word_count = len(words)\n",
    "print(\"Number of words:\", word_count)"
   ]
  },
  {
   "cell_type": "markdown",
   "id": "55ff2080-5ed2-4160-b835-77b14d73582d",
   "metadata": {},
   "source": [
    "## Exercise 26:\n",
    "Write a Python script that reads a file \"essay.txt\" and prints the total number of lines, words, and characters."
   ]
  },
  {
   "cell_type": "code",
   "execution_count": 248,
   "id": "a934ce3a-8330-494c-8342-e1289c2d7192",
   "metadata": {},
   "outputs": [
    {
     "name": "stdout",
     "output_type": "stream",
     "text": [
      "Lines: 1\n",
      "Words: 10\n",
      "Characters: 66\n"
     ]
    }
   ],
   "source": [
    "file = open(\"data/essay.txt\", 'r')\n",
    "lines = file.readlines()\n",
    "num_lines = len(lines)\n",
    "num_words = sum(len(line.split()) for line in lines)\n",
    "num_chars = sum(len(line) for line in lines)\n",
    "print(\"Lines:\", num_lines)\n",
    "print(\"Words:\", num_words)\n",
    "print(\"Characters:\", num_chars)"
   ]
  },
  {
   "cell_type": "markdown",
   "id": "5d82b8d2-7883-42a1-8a3e-2e625a86c21f",
   "metadata": {},
   "source": [
    "## Exercise 27:\n",
    "Copy the contents of one file \"source.txt\" to another file \"destination.txt\""
   ]
  },
  {
   "cell_type": "code",
   "execution_count": 263,
   "id": "214818a7-a72e-450b-924d-974108873cff",
   "metadata": {},
   "outputs": [],
   "source": [
    "with open(\"data/source.txt\", \"r\") as src:\n",
    "    content = src.read()\n",
    "with open(\"data/destination.txt\", \"w\") as dest:\n",
    "    dest.write(content)"
   ]
  },
  {
   "cell_type": "markdown",
   "id": "fcdea9d7-76ac-4130-8533-4f9737cd2295",
   "metadata": {},
   "source": [
    "## Exercise 28:\n",
    "Write a Python function that takes a filename as input and returns the number of lines in the file."
   ]
  },
  {
   "cell_type": "code",
   "execution_count": 266,
   "id": "d3cea489-6faf-49e9-a943-f300c934b557",
   "metadata": {},
   "outputs": [],
   "source": [
    "def count_lines(filename):\n",
    "    with open(filename, \"r\") as file:\n",
    "        return len(file.readlines())\n"
   ]
  },
  {
   "cell_type": "markdown",
   "id": "9ab4d931-4b97-45ed-805c-8b34de05c13d",
   "metadata": {},
   "source": [
    "## Exercise 29:\n",
    "Extract all the words from a text file \"article.txt\" that contain more than 5 characters.\n"
   ]
  },
  {
   "cell_type": "code",
   "execution_count": 272,
   "id": "01d350f5-5471-451d-ada5-f29de182176f",
   "metadata": {},
   "outputs": [
    {
     "name": "stdout",
     "output_type": "stream",
     "text": [
      "['sample', 'article', 'applications.', 'multiple', 'lines.']\n"
     ]
    }
   ],
   "source": [
    "file = open(\"data/article.txt\", 'r')\n",
    "words = file.read().split()\n",
    "long_words = [word for word in words if len(word) > 5]\n",
    "print(long_words)"
   ]
  },
  {
   "cell_type": "markdown",
   "id": "7827b1fb-6e01-4184-9a9d-274ea99bcae5",
   "metadata": {},
   "source": [
    "## Exercise 30:\n",
    "Convert the contents of a file \"notes.txt\" to uppercase and save the result in another file \"uppercase_notes.txt\"."
   ]
  },
  {
   "cell_type": "code",
   "execution_count": 291,
   "id": "e470eca4-4de2-47b2-b35e-4a0888d677a7",
   "metadata": {},
   "outputs": [],
   "source": [
    "file = open(\"data/notes.txt\", 'r')\n",
    "upper_content = file.read().upper()\n",
    "with open(\"data/uppercase_notes.txt\", \"w\") as file:\n",
    "    file.write(upper_content)"
   ]
  },
  {
   "cell_type": "markdown",
   "id": "671203a8-c0ac-4749-8c3b-8a7ca8038ff3",
   "metadata": {},
   "source": [
    "## Exercise 31:\n",
    "Write a Python script that reads a file and removes all empty lines."
   ]
  },
  {
   "cell_type": "code",
   "execution_count": 315,
   "id": "c085551e-4d33-4a60-a45d-c6b4e68b7690",
   "metadata": {
    "scrolled": true
   },
   "outputs": [],
   "source": [
    "def remove_empty_lines(filepath):\n",
    "    file = open(filepath, \"r\")\n",
    "    lines = file.readlines()\n",
    "\n",
    "    non_empty_lines = [line for line in lines if line.strip() != \"\"]\n",
    "\n",
    "    file = open(filepath, \"w\")\n",
    "    file.writelines(non_empty_lines)\n"
   ]
  },
  {
   "cell_type": "markdown",
   "id": "936725d1-4fb8-4222-b14d-3eec2e7d5280",
   "metadata": {},
   "source": [
    "## Exercise 32:\n",
    "Open a file \"config.txt\" in both read and write mode."
   ]
  },
  {
   "cell_type": "code",
   "execution_count": 319,
   "id": "3754730c-b553-4d55-b4ec-07bd8fe72346",
   "metadata": {},
   "outputs": [
    {
     "name": "stdout",
     "output_type": "stream",
     "text": [
      "File content: setting1=true\n",
      "setting2=false\n",
      "threshold=0.8\n",
      "\n"
     ]
    }
   ],
   "source": [
    "file = open(\"data/config.txt\", 'r+')\n",
    "content = file.read()\n",
    "print(\"File content:\", content)"
   ]
  },
  {
   "cell_type": "markdown",
   "id": "ed0470a3-5c1c-4924-93f2-93428151bd62",
   "metadata": {},
   "source": [
    "## Exercise 33:\n",
    "Write a Python function that reads a file and prints the longest line in the file."
   ]
  },
  {
   "cell_type": "code",
   "execution_count": 326,
   "id": "0e18d5ea-a316-4253-973f-6d0b2e5f9f4a",
   "metadata": {},
   "outputs": [],
   "source": [
    "def print_longest_line(filename):\n",
    "    file = open(filename, \"r\") \n",
    "    lines = file.readlines()\n",
    "    longest = max(lines, key=len)\n",
    "    print(\"Longest line:\", longest.strip())\n",
    "\n"
   ]
  },
  {
   "cell_type": "markdown",
   "id": "fce7f32a-caad-4c25-a1d1-7abf4e868999",
   "metadata": {},
   "source": [
    "## Exercise 34:\n",
    "Write a Python script to count the frequency of each letter in a text file \"message.txt\"."
   ]
  },
  {
   "cell_type": "code",
   "execution_count": 358,
   "id": "e8077d22-d28c-4043-998f-84c76db34d85",
   "metadata": {},
   "outputs": [
    {
     "name": "stdout",
     "output_type": "stream",
     "text": [
      "Letter frequencies: Counter({'e': 6, 's': 4, 'h': 3, 'l': 3, 'i': 3, 't': 2, 'a': 2, 'o': 1, 'r': 1, 'm': 1, 'g': 1, 'f': 1})\n"
     ]
    }
   ],
   "source": [
    "from collections import Counter\n",
    "\n",
    "file = open(\"data/message.txt\", \"r\")\n",
    "text = file.read().replace(\" \", \"\").lower()\n",
    "letter_freq = Counter(char for char in text if char.isalpha())\n",
    "print(\"Letter frequencies:\", letter_freq)"
   ]
  },
  {
   "cell_type": "markdown",
   "id": "1ce0b8f2-6828-444c-9d3a-6c094a6c7d74",
   "metadata": {},
   "source": [
    "## Exercise 35:\n",
    "Write a Python script that reads a file and prints the total number of characters, excluding spaces."
   ]
  },
  {
   "cell_type": "code",
   "execution_count": 370,
   "id": "016162d5-ba53-4700-982d-d8ada6b89a4c",
   "metadata": {},
   "outputs": [],
   "source": [
    "def count_characters_excluding_spaces(filepath):\n",
    "    file = open(filepath, \"r\")\n",
    "    content = file.read()\n",
    "\n",
    "    char_count = len(content.replace(\" \", \"\"))\n",
    "    print(\"Character count (excluding spaces):\", char_count)"
   ]
  },
  {
   "cell_type": "markdown",
   "id": "3c0b3d53-cc96-4893-bd0d-c878ccc7d0c3",
   "metadata": {},
   "source": [
    "## Exercise 36:\n",
    "Create a Python script to check whether a file is empty or not."
   ]
  },
  {
   "cell_type": "code",
   "execution_count": 374,
   "id": "084ba91c-53ad-4d9f-a7f4-c219de3832d3",
   "metadata": {},
   "outputs": [
    {
     "name": "stdout",
     "output_type": "stream",
     "text": [
      "File is not empty.\n"
     ]
    }
   ],
   "source": [
    "import os\n",
    "\n",
    "file_path = \"data/students.txt\" #we take student.txt as example\n",
    "if os.path.exists(file_path) and os.path.getsize(file_path) == 0:\n",
    "    print(\"File is empty.\")\n",
    "else:\n",
    "    print(\"File is not empty.\")"
   ]
  },
  {
   "cell_type": "markdown",
   "id": "cd61d053-5eff-45b6-9934-36e00bcbfa9b",
   "metadata": {},
   "source": [
    "## Exercise 37:\n",
    "Write a Python function that reads a file and removes all punctuation marks from the text."
   ]
  },
  {
   "cell_type": "code",
   "execution_count": 384,
   "id": "0b49f34e-32db-487c-9c2d-a61e637939fc",
   "metadata": {},
   "outputs": [],
   "source": [
    "import string\n",
    "\n",
    "def remove_punctuation(filename):\n",
    "    \n",
    "    file = open(filename, \"r\") \n",
    "    text = file.read()\n",
    "    clean_text = text.translate(str.maketrans(\"\", \"\", string.punctuation))\n",
    "    return clean_text\n"
   ]
  },
  {
   "cell_type": "markdown",
   "id": "2ee622ad-4284-4910-99cc-a43b326a738d",
   "metadata": {},
   "source": [
    "## Exercise 38:\n",
    "Create a Python function that writes a list of strings to a file, each string on a new line.````"
   ]
  },
  {
   "cell_type": "code",
   "execution_count": 398,
   "id": "fa1e8c3c-9199-4fd6-8ea0-2a802c9de96b",
   "metadata": {},
   "outputs": [],
   "source": [
    "def write_lines_to_file(lines, filename):\n",
    "    file = open(filename, \"w\") \n",
    "    for line in lines:\n",
    "        file.write(line + \"\\n\")\n",
    "    lines = [\"First line\", \"Second line\", \"Third line\"]\n",
    "    write_lines_to_file(lines, \"data/lines.txt\")"
   ]
  },
  {
   "cell_type": "markdown",
   "id": "320cdc38-2fc2-414b-a7c2-8fe718ef7c0a",
   "metadata": {},
   "source": [
    "## Exercise 39:\n",
    "Write a Python script to count the number of lines that start with a specific letter (e.g., \"A\") in a text file."
   ]
  },
  {
   "cell_type": "code",
   "execution_count": 418,
   "id": "0fe4e0ba-d3d4-4709-b836-90d50a7bfd54",
   "metadata": {},
   "outputs": [
    {
     "name": "stdout",
     "output_type": "stream",
     "text": [
      "Number of lines starting with 'A': 0\n"
     ]
    }
   ],
   "source": [
    "def count_lines_starting_with(filename, letter):\n",
    "    count = 0\n",
    "    file = open(filename, \"r\")\n",
    "    for line in file:\n",
    "        if line.startswith(\"A\"):\n",
    "           count += 1\n",
    "\n",
    "print(\"Number of lines starting with 'A':\", count)"
   ]
  },
  {
   "cell_type": "markdown",
   "id": "bc5fb5c9-cca0-44ac-bb26-7f2d37e72a50",
   "metadata": {},
   "source": [
    "## Exercise 40:\n",
    "Write a Python function that takes a string as input and writes it to a file \"output.txt\" in reverse order."
   ]
  },
  {
   "cell_type": "code",
   "execution_count": 434,
   "id": "b0f3d3ca-7908-447b-afdf-5a44bd55a2ec",
   "metadata": {},
   "outputs": [],
   "source": [
    "def write_reversed_string(text, filename):\n",
    "    file = open(\"data/output.txt\", \"w\") \n",
    "    file.write(text[::-1])\n",
    "\n",
    "write_reversed_string(\"My love, Python is powerful!\", \"data/output.txt\")"
   ]
  },
  {
   "cell_type": "markdown",
   "id": "0318c756-bec0-45a8-ac5e-d79d22ef1587",
   "metadata": {},
   "source": [
    "## Exercise 41:\n",
    "Write a Python script that reads a file and prints all the lines that contain the word \"Python\".\n"
   ]
  },
  {
   "cell_type": "code",
   "execution_count": 446,
   "id": "0bb9a1fd-cdef-49f8-a73e-eecfaed2f8eb",
   "metadata": {},
   "outputs": [
    {
     "name": "stdout",
     "output_type": "stream",
     "text": [
      "Python is a versatile language.\n"
     ]
    }
   ],
   "source": [
    "with open(\"data/notes.txt\", \"r\") as file:\n",
    "    for line in file:\n",
    "        if \"Python\" in line:\n",
    "            print(line.strip())"
   ]
  },
  {
   "cell_type": "markdown",
   "id": "99554485-09d5-487d-af3f-b7b8dea7f045",
   "metadata": {},
   "source": [
    "## Exercise 42:\n",
    "Write a Python script that opens a file and removes all numeric digits from the file's content."
   ]
  },
  {
   "cell_type": "code",
   "execution_count": 466,
   "id": "120e511d-5ad0-40f3-ae55-0e51dcff5af0",
   "metadata": {},
   "outputs": [],
   "source": [
    "import string\n",
    "\n",
    "def remove_digits_from_file(filename):\n",
    "    filename = \"data/sample.txt\"\n",
    "    cleaned_text = remove_digits_from_file(filename)\n",
    "    print(\"Content without digits:\\n\", cleaned_text)"
   ]
  },
  {
   "cell_type": "markdown",
   "id": "aaabbe5b-1e42-48ad-821f-a93dda479bab",
   "metadata": {},
   "source": [
    "## Exercise 43:\n",
    "Write a Python script to find the most frequent word in a text file \"book.txt\"."
   ]
  },
  {
   "cell_type": "code",
   "execution_count": 468,
   "id": "f440afdb-02f1-4e10-ac17-763f00ff8034",
   "metadata": {},
   "outputs": [
    {
     "name": "stdout",
     "output_type": "stream",
     "text": [
      "Most frequent word: a\n"
     ]
    }
   ],
   "source": [
    "from collections import Counter\n",
    "\n",
    "with open(\"data/book.txt\", \"r\") as file:\n",
    "    words = file.read().lower().split()\n",
    "\n",
    "most_common = Counter(words).most_common(1)\n",
    "print(\"Most frequent word:\", most_common[0][0])\n"
   ]
  },
  {
   "cell_type": "markdown",
   "id": "70d4a1c5-1878-48f6-a192-bcf8f092f774",
   "metadata": {},
   "source": [
    "## Exercise 44:\n",
    "Write a Python script that reads a file and prints all the lines that contain exactly 5 words."
   ]
  },
  {
   "cell_type": "code",
   "execution_count": 472,
   "id": "e4bbbc3d-7e71-4cdc-8b43-cfef12c9346b",
   "metadata": {},
   "outputs": [],
   "source": [
    "def print_lines_with_exactly_5_words(filename):\n",
    "    with open(filename, 'r') as file:\n",
    "        for line in file:\n",
    "            # Split line into words after stripping leading/trailing whitespace\n",
    "            words = line.strip().split()\n",
    "            if len(words) == 5:\n",
    "                print(line.strip())"
   ]
  },
  {
   "cell_type": "markdown",
   "id": "08dcc80e-231a-4578-9688-48963a84a65f",
   "metadata": {},
   "source": [
    "## Exercise 45:\n",
    "Write a Python script to read a file and print the first and last line of the file."
   ]
  },
  {
   "cell_type": "code",
   "execution_count": 476,
   "id": "75c29c2a-b054-46cf-9453-042bc3e792e7",
   "metadata": {},
   "outputs": [],
   "source": [
    "def print_first_and_last_line(filename):\n",
    "    with open(filename, 'r') as file:\n",
    "        lines = file.readlines()\n",
    "    \n",
    "    if not lines:\n",
    "        print(\"The file is empty.\")\n",
    "    else:\n",
    "        print(\"First line:\", lines[0].strip())\n",
    "        print(\"Last line:\", lines[-1].strip())"
   ]
  },
  {
   "cell_type": "markdown",
   "id": "9ffe7c07-0981-4e93-96fb-396182ac3544",
   "metadata": {},
   "source": [
    "## Exercise 46:\n",
    "Write a Python script that checks if a file \"students.txt\" is writable."
   ]
  },
  {
   "cell_type": "code",
   "execution_count": null,
   "id": "eb3d8797-c50c-4553-8fd0-af06db7eb876",
   "metadata": {},
   "outputs": [],
   "source": []
  },
  {
   "cell_type": "markdown",
   "id": "aceebbef-a044-458c-8b5a-3e28bf5f90f9",
   "metadata": {},
   "source": [
    "## Exercise 47:\n",
    "Create a Python function that opens a file and returns the number of unique words in the file."
   ]
  },
  {
   "cell_type": "code",
   "execution_count": 478,
   "id": "b6ec36b7-e5b7-4f8c-be2e-a460896dd496",
   "metadata": {},
   "outputs": [
    {
     "name": "stdout",
     "output_type": "stream",
     "text": [
      "The file is writable.\n"
     ]
    }
   ],
   "source": [
    "file_path = \"data/students.txt\"\n",
    "\n",
    "if os.access(file_path, os.W_OK):\n",
    "    print(\"The file is writable.\")\n",
    "else:\n",
    "    print(\"The file is not writable.\")"
   ]
  },
  {
   "cell_type": "markdown",
   "id": "6dfd452a-a5a1-4296-a031-4ebf76a62c87",
   "metadata": {},
   "source": [
    "## Exercise 48:\n",
    "Write a Python script that reads a file and prints all lines in reverse order."
   ]
  },
  {
   "cell_type": "code",
   "execution_count": 480,
   "id": "5794dbbd-5d3a-4ee4-8b3f-157c5d678318",
   "metadata": {},
   "outputs": [],
   "source": [
    "def print_lines_in_reverse(filename):\n",
    "    with open(filename, 'r') as file:\n",
    "        lines = file.readlines()\n",
    "    \n",
    "    for line in reversed(lines):\n",
    "        print(line.strip())"
   ]
  },
  {
   "cell_type": "markdown",
   "id": "26238aba-f901-4b22-9fb8-042a0e6f0004",
   "metadata": {},
   "source": [
    "## Exercise 49:\n",
    "Write a Python function that reads a file and returns the most common letter in the text.\n"
   ]
  },
  {
   "cell_type": "code",
   "execution_count": 484,
   "id": "2c8b3fca-fd27-41d7-9e73-d717d0a54585",
   "metadata": {},
   "outputs": [],
   "source": [
    "from collections import Counter\n",
    "import string\n",
    "\n",
    "def most_common_letter(filename):\n",
    "    with open(filename, 'r') as file:\n",
    "        text = file.read().lower()  # Convert to lowercase\n",
    "\n",
    "    # Keep only alphabetic letters\n",
    "    letters_only = [char for char in text if char in string.ascii_lowercase]\n",
    "\n",
    "    if not letters_only:\n",
    "        return None  # No letters found in the file\n",
    "\n",
    "    # Count frequency of each letter\n",
    "    letter_counts = Counter(letters_only)\n",
    "\n",
    "    # Get the most common letter\n",
    "    most_common = letter_counts.most_common(1)[0]  # returns a tuple (letter, count)\n",
    "    return most_common[0]\n",
    "\n"
   ]
  },
  {
   "cell_type": "markdown",
   "id": "5fb571a2-96c1-4348-904d-6f5700bce18f",
   "metadata": {},
   "source": [
    "## Exercise 50:\n",
    "Write a Python script that reads a file and replaces every occurrence of \"Python\" with \"Java\"."
   ]
  },
  {
   "cell_type": "code",
   "execution_count": 488,
   "id": "286aa677-0614-4bd5-8e4d-c9128c6276ea",
   "metadata": {},
   "outputs": [],
   "source": [
    "def replace_python_with_java(filename):\n",
    "    with open(filename, 'r') as file:\n",
    "        content = file.read()\n",
    "\n",
    "    updated_content = content.replace(\"Python\", \"Java\")\n",
    "\n",
    "    with open(filename, 'w') as file:\n",
    "        file.write(updated_content)\n"
   ]
  },
  {
   "cell_type": "code",
   "execution_count": null,
   "id": "08017d65-9a04-4bec-a20e-eb8ceb52f8ab",
   "metadata": {},
   "outputs": [],
   "source": []
  },
  {
   "cell_type": "code",
   "execution_count": null,
   "id": "3e15f490-aa2d-4209-88cc-ca6b33fa7492",
   "metadata": {},
   "outputs": [],
   "source": []
  },
  {
   "cell_type": "code",
   "execution_count": null,
   "id": "ee66077b-9f42-44ff-9864-c36394edcac7",
   "metadata": {},
   "outputs": [],
   "source": []
  },
  {
   "cell_type": "code",
   "execution_count": null,
   "id": "dcf6ca38",
   "metadata": {},
   "outputs": [],
   "source": []
  }
 ],
 "metadata": {
  "kernelspec": {
   "display_name": "Python [conda env:base] *",
   "language": "python",
   "name": "conda-base-py"
  },
  "language_info": {
   "codemirror_mode": {
    "name": "ipython",
    "version": 3
   },
   "file_extension": ".py",
   "mimetype": "text/x-python",
   "name": "python",
   "nbconvert_exporter": "python",
   "pygments_lexer": "ipython3",
   "version": "3.12.7"
  }
 },
 "nbformat": 4,
 "nbformat_minor": 5
}
