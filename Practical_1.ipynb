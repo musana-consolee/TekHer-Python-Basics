{
 "cells": [
  {
   "cell_type": "code",
   "execution_count": null,
   "id": "48c39477-3e31-4889-ac00-112309fbd42f",
   "metadata": {},
   "outputs": [],
   "source": [
    "# Practical_1: Variables and Assignments"
   ]
  },
  {
   "cell_type": "markdown",
   "id": "bb8d4de5-3ea6-4001-8d49-472992e549d7",
   "metadata": {},
   "source": [
    "## Exercise 1: daclare a valiable x and assign it the value '10'"
   ]
  },
  {
   "cell_type": "code",
   "execution_count": 133,
   "id": "17e688c6-98fd-4561-a428-addc7422ced0",
   "metadata": {},
   "outputs": [
    {
     "data": {
      "text/plain": [
       "10"
      ]
     },
     "execution_count": 133,
     "metadata": {},
     "output_type": "execute_result"
    }
   ],
   "source": [
    "x = 10\n",
    "x"
   ]
  },
  {
   "cell_type": "markdown",
   "id": "23814d05-0fcf-4d22-9e9c-925f43a4c559",
   "metadata": {},
   "source": [
    "## Exercise 2: Assign the value True to a variable called is_valid."
   ]
  },
  {
   "cell_type": "code",
   "execution_count": 3,
   "id": "7e361cd5-d377-488f-9c1d-77d73b591b2f",
   "metadata": {},
   "outputs": [
    {
     "data": {
      "text/plain": [
       "True"
      ]
     },
     "execution_count": 3,
     "metadata": {},
     "output_type": "execute_result"
    }
   ],
   "source": [
    "is_valid = True\n",
    "is_valid"
   ]
  },
  {
   "cell_type": "markdown",
   "id": "84a227d4-28d0-4f42-96b2-bfd798aefa08",
   "metadata": {},
   "source": [
    "## Exercise 3: Create a string variable name with the value \"Python Programming\"."
   ]
  },
  {
   "cell_type": "code",
   "execution_count": 7,
   "id": "98b50792-6a42-4ef1-86a7-dc0b7cfe2cb4",
   "metadata": {},
   "outputs": [
    {
     "name": "stdout",
     "output_type": "stream",
     "text": [
      "Python Programming\n"
     ]
    }
   ],
   "source": [
    "name = \"Python Programming\"\n",
    "print(name)"
   ]
  },
  {
   "cell_type": "markdown",
   "id": "39686087-3bec-45fe-9391-4a1a5a6e8f9f",
   "metadata": {},
   "source": [
    "## Exercise 4: Assign the result of 5 + 3 to a variable sum_result.m"
   ]
  },
  {
   "cell_type": "code",
   "execution_count": 11,
   "id": "5bc3e50e-cfff-45bf-b6be-a505b4ede5d9",
   "metadata": {},
   "outputs": [
    {
     "data": {
      "text/plain": [
       "8"
      ]
     },
     "execution_count": 11,
     "metadata": {},
     "output_type": "execute_result"
    }
   ],
   "source": [
    "sum_result = 5 + 3\n",
    "sum_result"
   ]
  },
  {
   "cell_type": "markdown",
   "id": "decee51f-a789-4e40-b863-c5fddb9972a9",
   "metadata": {},
   "source": [
    "## Exercise 5: Assign multiple variables in one line: a = 5, b = 10, c = 15."
   ]
  },
  {
   "cell_type": "code",
   "execution_count": 157,
   "id": "bbde10d1-fc7b-41d0-9a1a-27f3d29ccdda",
   "metadata": {},
   "outputs": [
    {
     "name": "stdout",
     "output_type": "stream",
     "text": [
      "5 10 15\n"
     ]
    }
   ],
   "source": [
    "a, b, c = 5, 10, 15\n",
    "print(a,b,c)"
   ]
  },
  {
   "cell_type": "markdown",
   "id": "e75c8be5-06c1-4014-ab29-a37b2d5495a2",
   "metadata": {},
   "source": [
    "## Exercise 6: Assign the value of one variable x to another variable y."
   ]
  },
  {
   "cell_type": "code",
   "execution_count": 17,
   "id": "0ba8797c-e5ca-4495-bcdd-0def0cf4f83f",
   "metadata": {},
   "outputs": [
    {
     "data": {
      "text/plain": [
       "50"
      ]
     },
     "execution_count": 17,
     "metadata": {},
     "output_type": "execute_result"
    }
   ],
   "source": [
    "x = 50\n",
    "y = x\n",
    "y"
   ]
  },
  {
   "cell_type": "markdown",
   "id": "f981ed8f-2009-416c-8757-c905ef62ff8b",
   "metadata": {},
   "source": [
    "## Exercise 7: Assign a floating-point number 9.8 to a variable gravity"
   ]
  },
  {
   "cell_type": "code",
   "execution_count": 19,
   "id": "2ee723db-ef07-44ab-abe4-a7f4c3f57175",
   "metadata": {},
   "outputs": [
    {
     "data": {
      "text/plain": [
       "9.8"
      ]
     },
     "execution_count": 19,
     "metadata": {},
     "output_type": "execute_result"
    }
   ],
   "source": [
    "gravity = 9.8\n",
    "gravity"
   ]
  },
  {
   "cell_type": "markdown",
   "id": "d69b2bdd-63a2-40f7-8e60-46632ac7119f",
   "metadata": {},
   "source": [
    "## Exercise 8: Create a variable country and assign it the string value of your favorite country."
   ]
  },
  {
   "cell_type": "code",
   "execution_count": 21,
   "id": "547a99e9-2175-4591-88a0-5cdcb1db23f3",
   "metadata": {},
   "outputs": [
    {
     "name": "stdout",
     "output_type": "stream",
     "text": [
      "Rwanda\n"
     ]
    }
   ],
   "source": [
    "country = \"Rwanda\"\n",
    "print(country)\n"
   ]
  },
  {
   "cell_type": "markdown",
   "id": "9d7609ea-44c9-4f6b-a3f4-5ed0784d45df",
   "metadata": {},
   "source": [
    "## Exercise 9: Change the value of variable age from 25 to 26 in two separate steps."
   ]
  },
  {
   "cell_type": "code",
   "execution_count": 25,
   "id": "be58eaf9-a793-40c5-8317-f9f2e9a863cd",
   "metadata": {},
   "outputs": [
    {
     "data": {
      "text/plain": [
       "26"
      ]
     },
     "execution_count": 25,
     "metadata": {},
     "output_type": "execute_result"
    }
   ],
   "source": [
    "age = 25\n",
    "age = 26\n",
    "age"
   ]
  },
  {
   "cell_type": "markdown",
   "id": "a1536765-c16e-41ee-a3db-583a4240d483",
   "metadata": {},
   "source": [
    "## Exercise 10: Use one variable to store the result of subtracting two numbers 20 - 7."
   ]
  },
  {
   "cell_type": "code",
   "execution_count": 27,
   "id": "9f55e117-7a27-4d54-9f12-4e3887d2c715",
   "metadata": {},
   "outputs": [
    {
     "data": {
      "text/plain": [
       "13"
      ]
     },
     "execution_count": 27,
     "metadata": {},
     "output_type": "execute_result"
    }
   ],
   "source": [
    "difference = 20 - 7\n",
    "difference"
   ]
  },
  {
   "cell_type": "markdown",
   "id": "60d64d26-3067-4d8b-8386-a9b040cd9cc5",
   "metadata": {},
   "source": [
    "## Exercise 11: Assign an integer value and a floating-point value to two different variables"
   ]
  },
  {
   "cell_type": "code",
   "execution_count": 29,
   "id": "a8543fa8-d03e-4775-929a-89b7d9ad20d0",
   "metadata": {},
   "outputs": [
    {
     "name": "stdout",
     "output_type": "stream",
     "text": [
      "100\n",
      "10.5\n"
     ]
    }
   ],
   "source": [
    "my_integer = 100\n",
    "my_float = 10.5\n",
    "print(my_integer)\n",
    "print(my_float)"
   ]
  },
  {
   "cell_type": "markdown",
   "id": "041773a6-985e-488c-a32a-64e014c111fa",
   "metadata": {},
   "source": [
    "## Exercise 12: Assign a boolean value False to a variable is_completed."
   ]
  },
  {
   "cell_type": "code",
   "execution_count": 31,
   "id": "48f08de9-2d51-4240-8117-fe95212adfce",
   "metadata": {},
   "outputs": [
    {
     "data": {
      "text/plain": [
       "False"
      ]
     },
     "execution_count": 31,
     "metadata": {},
     "output_type": "execute_result"
    }
   ],
   "source": [
    "is_completed = False\n",
    "is_completed"
   ]
  },
  {
   "cell_type": "markdown",
   "id": "457b076e-6ec8-4e59-a940-ff0b9cc25027",
   "metadata": {},
   "source": [
    "## Exercise 13: Swap the values of two variables x and y."
   ]
  },
  {
   "cell_type": "code",
   "execution_count": 37,
   "id": "b8653e98-99dc-4ea4-a5a4-ef96be653f7a",
   "metadata": {},
   "outputs": [
    {
     "name": "stdout",
     "output_type": "stream",
     "text": [
      "10\n",
      "5\n"
     ]
    }
   ],
   "source": [
    "x = 5\n",
    "y = 10\n",
    "x, y = y, x\n",
    "print(x)\n",
    "print(y)"
   ]
  },
  {
   "cell_type": "markdown",
   "id": "1e0d50a3-60b0-44c4-b258-fed46edd5091",
   "metadata": {},
   "source": [
    "## Exercise 14: Assign a complex number 3 + 4j to a variable complex_num."
   ]
  },
  {
   "cell_type": "code",
   "execution_count": 39,
   "id": "8572a905-940a-4e4c-a18e-fb13183f194f",
   "metadata": {},
   "outputs": [
    {
     "data": {
      "text/plain": [
       "(3+4j)"
      ]
     },
     "execution_count": 39,
     "metadata": {},
     "output_type": "execute_result"
    }
   ],
   "source": [
    "complex_num = 3 + 4j\n",
    "complex_num"
   ]
  },
  {
   "cell_type": "markdown",
   "id": "d01c11b8-6ab3-4150-aa7b-ff253b21220a",
   "metadata": {},
   "source": [
    "## Exercise 15: Reassign a variable from an integer to a string."
   ]
  },
  {
   "cell_type": "code",
   "execution_count": 41,
   "id": "3f94e53d-62e5-4c2c-94d5-569584d86fda",
   "metadata": {
    "collapsed": true,
    "jupyter": {
     "outputs_hidden": true
    }
   },
   "outputs": [
    {
     "data": {
      "text/plain": [
       "'forty-two'"
      ]
     },
     "execution_count": 41,
     "metadata": {},
     "output_type": "execute_result"
    }
   ],
   "source": [
    "value = 42\n",
    "value = \"forty-two\"\n",
    "value"
   ]
  },
  {
   "cell_type": "markdown",
   "id": "137de9ac-3458-46fc-bedc-7708d1ed7466",
   "metadata": {},
   "source": [
    "## Exercise 16: Create two variables first_name and last_name, and assign them your first and last names."
   ]
  },
  {
   "cell_type": "code",
   "execution_count": 43,
   "id": "68746c84-7a9f-4fe1-81c6-8fa3dce913d5",
   "metadata": {},
   "outputs": [
    {
     "name": "stdout",
     "output_type": "stream",
     "text": [
      "Consolee Musanabera\n"
     ]
    }
   ],
   "source": [
    "first_name = \"Consolee\"\n",
    "last_name = \"Musanabera\"\n",
    "print(first_name,last_name)"
   ]
  },
  {
   "cell_type": "markdown",
   "id": "76a17c7b-7e28-4f25-a628-f332f84aacea",
   "metadata": {},
   "source": [
    "## Exercise 17: Create a variable temperature and assign it the value of 35.5."
   ]
  },
  {
   "cell_type": "code",
   "execution_count": 47,
   "id": "aeae8ca6-71a4-401e-997b-3c12839754de",
   "metadata": {
    "collapsed": true,
    "jupyter": {
     "outputs_hidden": true
    }
   },
   "outputs": [
    {
     "data": {
      "text/plain": [
       "35.5"
      ]
     },
     "execution_count": 47,
     "metadata": {},
     "output_type": "execute_result"
    }
   ],
   "source": [
    "temperature = 35.5\n",
    "temperature"
   ]
  },
  {
   "cell_type": "markdown",
   "id": "8ca8fddd-60f8-496a-8737-5b47c7da3aea",
   "metadata": {},
   "source": [
    "## Exercise 18: Assign the result of the multiplication of two numbers 8 * 6 to a variable product."
   ]
  },
  {
   "cell_type": "code",
   "execution_count": 49,
   "id": "f6ebeffb-f19a-4f18-8e5d-fd7e393bcb18",
   "metadata": {},
   "outputs": [
    {
     "data": {
      "text/plain": [
       "48"
      ]
     },
     "execution_count": 49,
     "metadata": {},
     "output_type": "execute_result"
    }
   ],
   "source": [
    "product = 8 * 6\n",
    "product"
   ]
  },
  {
   "cell_type": "markdown",
   "id": "50ec10fd-e968-46c5-9bae-424b995d8326",
   "metadata": {},
   "source": [
    "## Exercise 19: Assign a sentence of your choice to a variable sentence."
   ]
  },
  {
   "cell_type": "code",
   "execution_count": 51,
   "id": "9d6ae56d-8d77-4973-9fd0-b8af9cc13083",
   "metadata": {
    "jupyter": {
     "source_hidden": true
    }
   },
   "outputs": [
    {
     "name": "stdout",
     "output_type": "stream",
     "text": [
      "Python is fun and powerful.\n"
     ]
    }
   ],
   "source": [
    "sentence = \"Python is fun and powerful.\"\n",
    "print(sentence)"
   ]
  },
  {
   "cell_type": "markdown",
   "id": "159bf87d-1e12-401d-8b47-5656087f3a0c",
   "metadata": {},
   "source": [
    "\n",
    "## Exercise 20: Use an assignment to convert a string '50' into an integer variable int_value."
   ]
  },
  {
   "cell_type": "code",
   "execution_count": 53,
   "id": "6dd848eb-4556-4d7a-9eae-abe6662d615b",
   "metadata": {},
   "outputs": [
    {
     "data": {
      "text/plain": [
       "50"
      ]
     },
     "execution_count": 53,
     "metadata": {},
     "output_type": "execute_result"
    }
   ],
   "source": [
    "int_value = int('50')\n",
    "int_value"
   ]
  },
  {
   "cell_type": "markdown",
   "id": "26356db5-f97e-453b-9ab7-0b7f3f904863",
   "metadata": {},
   "source": [
    "## Exercise 21: Assign the result of dividing 144 by 12 to a variable quotient."
   ]
  },
  {
   "cell_type": "code",
   "execution_count": 55,
   "id": "0b2cbe20-770e-485d-91b9-529872882d02",
   "metadata": {},
   "outputs": [
    {
     "data": {
      "text/plain": [
       "12.0"
      ]
     },
     "execution_count": 55,
     "metadata": {},
     "output_type": "execute_result"
    }
   ],
   "source": [
    "quotient = 144 / 12\n",
    "quotient"
   ]
  },
  {
   "cell_type": "markdown",
   "id": "6d78b69c-d096-4845-9e99-a84c59c4df49",
   "metadata": {},
   "source": [
    "## Exercise 22: Assign the remainder of 47 divided by 5 to a variable remainder."
   ]
  },
  {
   "cell_type": "code",
   "execution_count": 59,
   "id": "be69618f-520c-4537-8d15-f66466e79ddf",
   "metadata": {},
   "outputs": [
    {
     "data": {
      "text/plain": [
       "2"
      ]
     },
     "execution_count": 59,
     "metadata": {},
     "output_type": "execute_result"
    }
   ],
   "source": [
    "remainder = 47 % 5\n",
    "remainder"
   ]
  },
  {
   "cell_type": "markdown",
   "id": "0760eee3-c408-4816-ab42-f63b88cb6304",
   "metadata": {},
   "source": [
    "## Exercise 23: Create a variable is_student and assign it the value True."
   ]
  },
  {
   "cell_type": "code",
   "execution_count": 63,
   "id": "2a58d6f1-66c8-4d02-88b6-44850b509d14",
   "metadata": {
    "jupyter": {
     "source_hidden": true
    }
   },
   "outputs": [
    {
     "data": {
      "text/plain": [
       "True"
      ]
     },
     "execution_count": 63,
     "metadata": {},
     "output_type": "execute_result"
    }
   ],
   "source": [
    "is_student = True\n",
    "is_student"
   ]
  },
  {
   "cell_type": "markdown",
   "id": "050f6b1a-02ca-4289-af0c-11cf57a43077",
   "metadata": {},
   "source": [
    "## Exercise 24: Use a variable to store the result of a modulo operation: 45 % 4."
   ]
  },
  {
   "cell_type": "code",
   "execution_count": 179,
   "id": "b94e9d81-fb21-47b0-b71d-28c072fe1b7c",
   "metadata": {},
   "outputs": [
    {
     "data": {
      "text/plain": [
       "1"
      ]
     },
     "execution_count": 179,
     "metadata": {},
     "output_type": "execute_result"
    }
   ],
   "source": [
    "modulo_result = 45 % 4\n",
    "modulo_result"
   ]
  },
  {
   "cell_type": "markdown",
   "id": "f30c23fe-deb8-4770-9ea3-e58220514f24",
   "metadata": {},
   "source": [
    "## Exercise 25: Create a variable pi and assign it the value 3.14159."
   ]
  },
  {
   "cell_type": "code",
   "execution_count": 69,
   "id": "6437fa0e-ee32-4763-b061-2f0fb20509e8",
   "metadata": {},
   "outputs": [
    {
     "data": {
      "text/plain": [
       "3.14159"
      ]
     },
     "execution_count": 69,
     "metadata": {},
     "output_type": "execute_result"
    }
   ],
   "source": [
    "pi = 3.14159\n",
    "pi"
   ]
  },
  {
   "cell_type": "markdown",
   "id": "cf3f83b0-c471-4a7e-8936-64ca8887b751",
   "metadata": {},
   "source": [
    "## Exercise 26: Create two variables length and width, assign them values, and calculate the area of a rectangle."
   ]
  },
  {
   "cell_type": "code",
   "execution_count": 71,
   "id": "4a4258bd-7860-4ff2-9805-2eea229dafec",
   "metadata": {},
   "outputs": [
    {
     "data": {
      "text/plain": [
       "50"
      ]
     },
     "execution_count": 71,
     "metadata": {},
     "output_type": "execute_result"
    }
   ],
   "source": [
    "length = 10\n",
    "width = 5\n",
    "area = length * width\n",
    "area\n"
   ]
  },
  {
   "cell_type": "markdown",
   "id": "6b9209c1-eeae-4e3f-9a1f-25da106fd562",
   "metadata": {},
   "source": [
    "## Exercise 27: Assign a negative number to a variable negative_value."
   ]
  },
  {
   "cell_type": "code",
   "execution_count": 73,
   "id": "c65a750c-7af4-4286-abe3-7aa917c48f8f",
   "metadata": {},
   "outputs": [
    {
     "data": {
      "text/plain": [
       "-25"
      ]
     },
     "execution_count": 73,
     "metadata": {},
     "output_type": "execute_result"
    }
   ],
   "source": [
    "negative_value = -25\n",
    "negative_value"
   ]
  },
  {
   "cell_type": "markdown",
   "id": "ff2a8d0c-95fa-4490-8678-60e3bc955474",
   "metadata": {},
   "source": [
    "## Exercise 28: Assign a string containing a special character (e.g., \"Hello, World!\") to a variable greeting."
   ]
  },
  {
   "cell_type": "code",
   "execution_count": 75,
   "id": "0066d734-2c11-4f27-8bae-a18d93cce5dc",
   "metadata": {},
   "outputs": [
    {
     "name": "stdout",
     "output_type": "stream",
     "text": [
      "Hello, World!\n"
     ]
    }
   ],
   "source": [
    "greeting = \"Hello, World!\"\n",
    "print(greeting)"
   ]
  },
  {
   "cell_type": "markdown",
   "id": "76a8443d-c5c6-4d3e-99ad-482fb1f0fe1b",
   "metadata": {},
   "source": [
    "## Exercise 29: Create a variable population and assign it a large integer value (in billions)."
   ]
  },
  {
   "cell_type": "code",
   "execution_count": 77,
   "id": "14517149-2022-43ba-af98-6450ca38ed38",
   "metadata": {},
   "outputs": [
    {
     "data": {
      "text/plain": [
       "8000000000"
      ]
     },
     "execution_count": 77,
     "metadata": {},
     "output_type": "execute_result"
    }
   ],
   "source": [
    "population = 8000000000 #8 billions\n",
    "population"
   ]
  },
  {
   "cell_type": "markdown",
   "id": "d89e06fa-f0e0-4993-bc3f-d80f07474a1d",
   "metadata": {},
   "source": [
    "## Exercise 30: Use a variable to store the result of raising 2 to the power of 8."
   ]
  },
  {
   "cell_type": "code",
   "execution_count": 79,
   "id": "678aaf86-b6b2-43d3-95c1-a352f9fd9954",
   "metadata": {},
   "outputs": [
    {
     "data": {
      "text/plain": [
       "256"
      ]
     },
     "execution_count": 79,
     "metadata": {},
     "output_type": "execute_result"
    }
   ],
   "source": [
    "power_result = 2 ** 8\n",
    "power_result"
   ]
  },
  {
   "cell_type": "markdown",
   "id": "15e05545-d814-4a7b-b4c0-03f96f710500",
   "metadata": {},
   "source": [
    "## Exercise 31: Assign a list of your favorite fruits to a variable fruits."
   ]
  },
  {
   "cell_type": "code",
   "execution_count": 83,
   "id": "bb85485b-1965-4dc3-a80c-a0e966cb2f0b",
   "metadata": {},
   "outputs": [
    {
     "name": "stdout",
     "output_type": "stream",
     "text": [
      "['mango', 'banana', 'pineapple']\n"
     ]
    }
   ],
   "source": [
    "fruits = [\"mango\", \"banana\", \"pineapple\"]\n",
    "print(fruitsa)"
   ]
  },
  {
   "cell_type": "markdown",
   "id": "ee915998-a3f7-4bf1-9c51-2b4eab9cde78",
   "metadata": {},
   "source": [
    "## Exercise 32: Assign a tuple of three numbers to a variable coordinates."
   ]
  },
  {
   "cell_type": "code",
   "execution_count": 85,
   "id": "1060c676-41db-447c-aaec-3697e66126c1",
   "metadata": {
    "collapsed": true,
    "jupyter": {
     "outputs_hidden": true
    }
   },
   "outputs": [
    {
     "data": {
      "text/plain": [
       "(1, 2, 3)"
      ]
     },
     "execution_count": 85,
     "metadata": {},
     "output_type": "execute_result"
    }
   ],
   "source": [
    "coordinates = (1, 2, 3)\n",
    "coordinates"
   ]
  },
  {
   "cell_type": "markdown",
   "id": "c2232cc9-3315-4ff9-b642-d49843c3680f",
   "metadata": {},
   "source": [
    "## Exercise 33: Assign a dictionary with keys name and age to a variable person."
   ]
  },
  {
   "cell_type": "code",
   "execution_count": 87,
   "id": "3e565582-97d0-4bbc-af3a-9eda03e6f865",
   "metadata": {},
   "outputs": [
    {
     "name": "stdout",
     "output_type": "stream",
     "text": [
      "{'name': 'Consolee', 'age': 22}\n"
     ]
    }
   ],
   "source": [
    "person = {\"name\": \"Consolee\", \"age\": 22}\n",
    "print(person)"
   ]
  },
  {
   "cell_type": "markdown",
   "id": "dd5d6bc9-e67e-42c1-85a8-4fedf139399c",
   "metadata": {},
   "source": [
    "## Exercise 34: Use variables to store the sum of two floating-point numbers."
   ]
  },
  {
   "cell_type": "code",
   "execution_count": 89,
   "id": "71aa057f-7234-47ba-aa9d-297bf7cdfa9b",
   "metadata": {},
   "outputs": [
    {
     "data": {
      "text/plain": [
       "7.5"
      ]
     },
     "execution_count": 89,
     "metadata": {},
     "output_type": "execute_result"
    }
   ],
   "source": [
    "num1 = 3.2\n",
    "num2 = 4.3\n",
    "sum_float = num1 + num2\n",
    "sum_float"
   ]
  },
  {
   "cell_type": "markdown",
   "id": "38fe9260-4089-41c8-9eb6-bd8f53c671ad",
   "metadata": {},
   "source": [
    "## Exercise 35: Create a variable is_sunny and assign it the result of a comparison 10 > 5."
   ]
  },
  {
   "cell_type": "code",
   "execution_count": 91,
   "id": "8af3d4c2-0014-413d-a48a-eabd8c1f3b37",
   "metadata": {
    "collapsed": true,
    "jupyter": {
     "outputs_hidden": true
    }
   },
   "outputs": [
    {
     "data": {
      "text/plain": [
       "True"
      ]
     },
     "execution_count": 91,
     "metadata": {},
     "output_type": "execute_result"
    }
   ],
   "source": [
    "is_sunny = 10 > 5\n",
    "is_sunny"
   ]
  },
  {
   "cell_type": "markdown",
   "id": "90dac39c-a8b3-404d-abb7-1e890c272043",
   "metadata": {},
   "source": [
    "## Exercise 36: Assign a string and an integer to two different variables, then print both on one line."
   ]
  },
  {
   "cell_type": "code",
   "execution_count": 93,
   "id": "022e64a1-a060-4d45-9ca4-327b08f67196",
   "metadata": {},
   "outputs": [
    {
     "name": "stdout",
     "output_type": "stream",
     "text": [
      "Age: 23\n"
     ]
    }
   ],
   "source": [
    "text = \"Age:\"\n",
    "number = 23\n",
    "print(text, number)\n"
   ]
  },
  {
   "cell_type": "markdown",
   "id": "a55571ed-8202-4c3a-b361-7a2fc664b913",
   "metadata": {},
   "source": [
    "## Exercise 37: Reassign a variable that originally held a number to a boolean value."
   ]
  },
  {
   "cell_type": "code",
   "execution_count": 95,
   "id": "c3bf416a-95fa-4233-b830-01c5f0e308aa",
   "metadata": {},
   "outputs": [
    {
     "data": {
      "text/plain": [
       "True"
      ]
     },
     "execution_count": 95,
     "metadata": {},
     "output_type": "execute_result"
    }
   ],
   "source": [
    "data = 100\n",
    "data = True\n",
    "data"
   ]
  },
  {
   "cell_type": "markdown",
   "id": "0ba3b222-434f-4662-a3c7-d04babb8357a",
   "metadata": {},
   "source": [
    "## Exercise 38: Create a variable is_weekend and assign it the result of False."
   ]
  },
  {
   "cell_type": "code",
   "execution_count": 97,
   "id": "34b21d8e-54d7-47f3-a3be-39f52b88ea98",
   "metadata": {
    "collapsed": true,
    "jupyter": {
     "outputs_hidden": true
    }
   },
   "outputs": [
    {
     "data": {
      "text/plain": [
       "False"
      ]
     },
     "execution_count": 97,
     "metadata": {},
     "output_type": "execute_result"
    }
   ],
   "source": [
    "is_weekend = False\n",
    "is_weekend"
   ]
  },
  {
   "cell_type": "markdown",
   "id": "704cc5ec-6c62-4bf1-b107-ec3b0bdf0726",
   "metadata": {},
   "source": [
    "## Exercise 39: Assign a multi-line string to a variable description"
   ]
  },
  {
   "cell_type": "code",
   "execution_count": 99,
   "id": "0694c93e-3c16-4c8e-bcd0-7ad133d98bc8",
   "metadata": {},
   "outputs": [
    {
     "name": "stdout",
     "output_type": "stream",
     "text": [
      "This is a multi-line string.\n",
      "It spans across multiple lines.\n",
      "Python is amazing.\n"
     ]
    }
   ],
   "source": [
    "description = \"\"\"This is a multi-line string.\n",
    "It spans across multiple lines.\n",
    "Python is amazing.\"\"\"\n",
    "print(description)"
   ]
  },
  {
   "cell_type": "markdown",
   "id": "756ec164-047e-45e7-9e65-0671d7cc640c",
   "metadata": {},
   "source": [
    "## Exercise 40: Use variables to store the result of the absolute value of -25."
   ]
  },
  {
   "cell_type": "code",
   "execution_count": 101,
   "id": "2a9294a1-b54d-4a59-a7c6-9bdd9c6821b6",
   "metadata": {},
   "outputs": [
    {
     "data": {
      "text/plain": [
       "25"
      ]
     },
     "execution_count": 101,
     "metadata": {},
     "output_type": "execute_result"
    }
   ],
   "source": [
    "abs_value = abs(-25)\n",
    "abs_value"
   ]
  },
  {
   "cell_type": "markdown",
   "id": "731c4aed-8fcc-46f9-8f9d-6bd859adaab7",
   "metadata": {},
   "source": [
    "## Exercise 41: Assign the result of a floor division 100 // 6 to a variable floor_div_result."
   ]
  },
  {
   "cell_type": "code",
   "execution_count": 103,
   "id": "5596853a-58f1-468b-9479-6c25814c3381",
   "metadata": {},
   "outputs": [
    {
     "data": {
      "text/plain": [
       "16"
      ]
     },
     "execution_count": 103,
     "metadata": {},
     "output_type": "execute_result"
    }
   ],
   "source": [
    "floor_div_result = 100 // 6\n",
    "floor_div_result"
   ]
  },
  {
   "cell_type": "markdown",
   "id": "07c298a1-fc86-4e50-be07-c8c93572aebc",
   "metadata": {},
   "source": [
    "## Exercise 42: Assign the result of adding a floating-point number to an integer to a variable mixed_sum."
   ]
  },
  {
   "cell_type": "code",
   "execution_count": 105,
   "id": "335cafa8-763c-4b19-b20e-f6be836ed8d4",
   "metadata": {},
   "outputs": [
    {
     "data": {
      "text/plain": [
       "9.5"
      ]
     },
     "execution_count": 105,
     "metadata": {},
     "output_type": "execute_result"
    }
   ],
   "source": [
    "mixed_sum = 7 + 2.5\n",
    "mixed_sum"
   ]
  },
  {
   "cell_type": "markdown",
   "id": "115dee3b-f5f0-42ea-81b2-23878dee3b29",
   "metadata": {},
   "source": [
    "## Exercise 43: Use variables to store a combination of string concatenation."
   ]
  },
  {
   "cell_type": "code",
   "execution_count": 131,
   "id": "cb08e0d3-ad3a-41ee-9fd3-0f97373935a0",
   "metadata": {},
   "outputs": [
    {
     "name": "stdout",
     "output_type": "stream",
     "text": [
      "Hello Consolee\n"
     ]
    }
   ],
   "source": [
    "greeting = \"Hello\"\n",
    "name = \"Consolee\"\n",
    "full_greeting = greeting + \" \" + name\n",
    "print(full_greeting)"
   ]
  },
  {
   "cell_type": "markdown",
   "id": "9f46c275-ea13-4920-b971-1358ef2a716a",
   "metadata": {},
   "source": [
    "## Exercise 44: Assign an empty list to a variable empty_list."
   ]
  },
  {
   "cell_type": "code",
   "execution_count": 109,
   "id": "cf9f4cd0-0a68-4502-aabb-2152e1506204",
   "metadata": {},
   "outputs": [
    {
     "data": {
      "text/plain": [
       "[]"
      ]
     },
     "execution_count": 109,
     "metadata": {},
     "output_type": "execute_result"
    }
   ],
   "source": [
    "empty_list = []\n",
    "empty_list"
   ]
  },
  {
   "cell_type": "markdown",
   "id": "f06d2038-524f-438f-95a2-cabe49d968c2",
   "metadata": {},
   "source": [
    "## Exercise 45: Assign a boolean value based on the comparison of two variables a = 10 and b = 15."
   ]
  },
  {
   "cell_type": "code",
   "execution_count": 111,
   "id": "d24cdb48-827a-48ac-9a7f-8308fe86ae64",
   "metadata": {},
   "outputs": [
    {
     "data": {
      "text/plain": [
       "True"
      ]
     },
     "execution_count": 111,
     "metadata": {},
     "output_type": "execute_result"
    }
   ],
   "source": [
    "a = 10\n",
    "b = 15\n",
    "comparison = a < b\n",
    "comparison"
   ]
  },
  {
   "cell_type": "markdown",
   "id": "4e8e986d-64cc-4448-9fb5-3e4c534164fb",
   "metadata": {},
   "source": [
    "## Exercise 46: Assign a long sentence to a variable and count its characters using len()."
   ]
  },
  {
   "cell_type": "code",
   "execution_count": 113,
   "id": "5b3360c9-bbc8-4edf-8221-9ec9f547ce07",
   "metadata": {},
   "outputs": [
    {
     "data": {
      "text/plain": [
       "48"
      ]
     },
     "execution_count": 113,
     "metadata": {},
     "output_type": "execute_result"
    }
   ],
   "source": [
    "long_sentence = \"This is a long sentence for counting characters.\"\n",
    "length_of_sentence = len(long_sentence)\n",
    "length_of_sentence"
   ]
  },
  {
   "cell_type": "markdown",
   "id": "9fb1c40f-4996-4e60-a5ca-0ef860c90463",
   "metadata": {},
   "source": [
    "## Exercise 47: Assign a fractional result 7 / 3 to a variable division_result."
   ]
  },
  {
   "cell_type": "code",
   "execution_count": 117,
   "id": "917d6d86-01ef-4336-9960-1bcccb90e613",
   "metadata": {},
   "outputs": [
    {
     "data": {
      "text/plain": [
       "2.3333333333333335"
      ]
     },
     "execution_count": 117,
     "metadata": {},
     "output_type": "execute_result"
    }
   ],
   "source": [
    "division_result = 7 / 3\n",
    "division_result"
   ]
  },
  {
   "cell_type": "markdown",
   "id": "b8233d70-c1dd-4426-933c-f5941259c3a7",
   "metadata": {},
   "source": [
    "## Exercise 48: Create a variable speed and assign it the value of 100 kilometers per hour."
   ]
  },
  {
   "cell_type": "code",
   "execution_count": 119,
   "id": "8d579cb0-f7a9-4a5c-8805-28d01cf75cf2",
   "metadata": {},
   "outputs": [
    {
     "data": {
      "text/plain": [
       "100"
      ]
     },
     "execution_count": 119,
     "metadata": {},
     "output_type": "execute_result"
    }
   ],
   "source": [
    "speed = 100  # kilometers per hour\n",
    "speed"
   ]
  },
  {
   "cell_type": "markdown",
   "id": "7d3f0f32-adea-466d-81e3-2868925e16ab",
   "metadata": {},
   "source": [
    "## Exercise 49: Assign a multi-variable equation like y = 3x + 5 where x = 4 to a variable y."
   ]
  },
  {
   "cell_type": "code",
   "execution_count": 121,
   "id": "cc3f1758-fbbc-4f71-9f11-8e57e0fbc82b",
   "metadata": {},
   "outputs": [
    {
     "data": {
      "text/plain": [
       "17"
      ]
     },
     "execution_count": 121,
     "metadata": {},
     "output_type": "execute_result"
    }
   ],
   "source": [
    "x = 4\n",
    "y = 3 * x + 5\n",
    "y"
   ]
  },
  {
   "cell_type": "markdown",
   "id": "3e3ca8d4-16bd-4f38-856c-700a3b8ce14b",
   "metadata": {},
   "source": [
    "## Exercise 50: Use variables to calculate and store the average of three numbers."
   ]
  },
  {
   "cell_type": "code",
   "execution_count": 123,
   "id": "a8bd76ce-405f-46e9-b080-7490bcc80c9a",
   "metadata": {},
   "outputs": [
    {
     "data": {
      "text/plain": [
       "20.0"
      ]
     },
     "execution_count": 123,
     "metadata": {},
     "output_type": "execute_result"
    }
   ],
   "source": [
    "num1 = 20\n",
    "num2 = 25\n",
    "num3 = 15\n",
    "average = (num1 + num2 + num3) / 3\n",
    "average"
   ]
  },
  {
   "cell_type": "code",
   "execution_count": null,
   "id": "cbed0f3c-4cd2-4c16-9f9d-212c1c020a5c",
   "metadata": {},
   "outputs": [],
   "source": []
  }
 ],
 "metadata": {
  "kernelspec": {
   "display_name": "Python [conda env:base] *",
   "language": "python",
   "name": "conda-base-py"
  },
  "language_info": {
   "codemirror_mode": {
    "name": "ipython",
    "version": 3
   },
   "file_extension": ".py",
   "mimetype": "text/x-python",
   "name": "python",
   "nbconvert_exporter": "python",
   "pygments_lexer": "ipython3",
   "version": "3.12.7"
  }
 },
 "nbformat": 4,
 "nbformat_minor": 5
}
